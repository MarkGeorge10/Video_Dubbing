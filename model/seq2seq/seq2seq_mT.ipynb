{
 "cells": [
  {
   "cell_type": "code",
   "execution_count": 3,
   "id": "bd965ae2-af90-4600-8467-87434548b261",
   "metadata": {},
   "outputs": [],
   "source": [
    "import numpy as np\n",
    "import pandas as pd\n",
    "from sklearn.model_selection import train_test_split\n",
    "from sklearn.metrics import roc_curve, roc_auc_score\n",
    "import tensorflow as tf\n",
    "from tensorflow.keras.models import Model\n",
    "from tensorflow.keras.callbacks import ModelCheckpoint, EarlyStopping\n",
    "from tensorflow.keras.layers import Input, LSTM, Dense, Embedding\n",
    "from tensorflow.keras.preprocessing.text import Tokenizer\n",
    "from tensorflow.keras.preprocessing.sequence import pad_sequences\n",
    "import matplotlib.pyplot as plt\n",
    "from nltk.translate.bleu_score import sentence_bleu, SmoothingFunction"
   ]
  },
  {
   "cell_type": "code",
   "execution_count": 4,
   "id": "078f7303-cb33-407e-91af-af92595b206f",
   "metadata": {},
   "outputs": [],
   "source": [
    "import pickle  # Added import for pickle\n",
    "import time"
   ]
  },
  {
   "cell_type": "code",
   "execution_count": 5,
   "id": "15f6ca5a-a2ea-4c6a-ae3e-ad0c39bcc5b4",
   "metadata": {},
   "outputs": [],
   "source": [
    "# Step 1: Load and Preprocess the Dataset\n",
    "# Load the actual dataset\n",
    "data = pd.read_csv('data/TR2EN.txt', sep='\\t', names=['english', 'turkish'])"
   ]
  },
  {
   "cell_type": "code",
   "execution_count": 68,
   "id": "20d5cab4-d8ef-41ab-a843-d347553cd40e",
   "metadata": {},
   "outputs": [
    {
     "data": {
      "text/html": [
       "<div>\n",
       "<style scoped>\n",
       "    .dataframe tbody tr th:only-of-type {\n",
       "        vertical-align: middle;\n",
       "    }\n",
       "\n",
       "    .dataframe tbody tr th {\n",
       "        vertical-align: top;\n",
       "    }\n",
       "\n",
       "    .dataframe thead th {\n",
       "        text-align: right;\n",
       "    }\n",
       "</style>\n",
       "<table border=\"1\" class=\"dataframe\">\n",
       "  <thead>\n",
       "    <tr style=\"text-align: right;\">\n",
       "      <th></th>\n",
       "      <th>english</th>\n",
       "      <th>turkish</th>\n",
       "    </tr>\n",
       "  </thead>\n",
       "  <tbody>\n",
       "    <tr>\n",
       "      <th>0</th>\n",
       "      <td>Hi.</td>\n",
       "      <td>Merhaba.</td>\n",
       "    </tr>\n",
       "    <tr>\n",
       "      <th>1</th>\n",
       "      <td>Hi.</td>\n",
       "      <td>Selam.</td>\n",
       "    </tr>\n",
       "    <tr>\n",
       "      <th>2</th>\n",
       "      <td>Run!</td>\n",
       "      <td>Kaç!</td>\n",
       "    </tr>\n",
       "    <tr>\n",
       "      <th>3</th>\n",
       "      <td>Run!</td>\n",
       "      <td>Koş!</td>\n",
       "    </tr>\n",
       "    <tr>\n",
       "      <th>4</th>\n",
       "      <td>Run.</td>\n",
       "      <td>Kaç!</td>\n",
       "    </tr>\n",
       "    <tr>\n",
       "      <th>...</th>\n",
       "      <td>...</td>\n",
       "      <td>...</td>\n",
       "    </tr>\n",
       "    <tr>\n",
       "      <th>349995</th>\n",
       "      <td>Tom didn't tell the police everything.</td>\n",
       "      <td>Tom polise her şeyi anlatmadı.</td>\n",
       "    </tr>\n",
       "    <tr>\n",
       "      <th>349996</th>\n",
       "      <td>Tom didn't tell the stranger his name.</td>\n",
       "      <td>Tom yabancıya adını söylemedi.</td>\n",
       "    </tr>\n",
       "    <tr>\n",
       "      <th>349997</th>\n",
       "      <td>Tom didn't tell us why we should come.</td>\n",
       "      <td>Tom bize niçin gelmemiz gerektiğini anlatmadı.</td>\n",
       "    </tr>\n",
       "    <tr>\n",
       "      <th>349998</th>\n",
       "      <td>Tom didn't think Mary was cooperative.</td>\n",
       "      <td>Tom Mary'nin yardımcı olduğunu düşünmedi.</td>\n",
       "    </tr>\n",
       "    <tr>\n",
       "      <th>349999</th>\n",
       "      <td>Tom didn't think Mary was discouraged.</td>\n",
       "      <td>Tom Mary'nin cesareti kırılmış olduğunu düşünm...</td>\n",
       "    </tr>\n",
       "  </tbody>\n",
       "</table>\n",
       "<p>350000 rows × 2 columns</p>\n",
       "</div>"
      ],
      "text/plain": [
       "                                       english  \\\n",
       "0                                          Hi.   \n",
       "1                                          Hi.   \n",
       "2                                         Run!   \n",
       "3                                         Run!   \n",
       "4                                         Run.   \n",
       "...                                        ...   \n",
       "349995  Tom didn't tell the police everything.   \n",
       "349996  Tom didn't tell the stranger his name.   \n",
       "349997  Tom didn't tell us why we should come.   \n",
       "349998  Tom didn't think Mary was cooperative.   \n",
       "349999  Tom didn't think Mary was discouraged.   \n",
       "\n",
       "                                                  turkish  \n",
       "0                                                Merhaba.  \n",
       "1                                                  Selam.  \n",
       "2                                                    Kaç!  \n",
       "3                                                    Koş!  \n",
       "4                                                    Kaç!  \n",
       "...                                                   ...  \n",
       "349995                     Tom polise her şeyi anlatmadı.  \n",
       "349996                     Tom yabancıya adını söylemedi.  \n",
       "349997     Tom bize niçin gelmemiz gerektiğini anlatmadı.  \n",
       "349998          Tom Mary'nin yardımcı olduğunu düşünmedi.  \n",
       "349999  Tom Mary'nin cesareti kırılmış olduğunu düşünm...  \n",
       "\n",
       "[350000 rows x 2 columns]"
      ]
     },
     "execution_count": 68,
     "metadata": {},
     "output_type": "execute_result"
    }
   ],
   "source": [
    "data = data[:350000]\n",
    "data"
   ]
  },
  {
   "cell_type": "code",
   "execution_count": 69,
   "id": "5a3b8668-16f4-4afd-9efe-237954cbd4b0",
   "metadata": {},
   "outputs": [],
   "source": [
    "# Step 2: Prepare input (English) and target (Turkish) texts\n",
    "input_texts = data['english'].tolist()  # List of English sentences\n",
    "# Add <start> and <end> tokens to target texts (modify preprocessing step)\n",
    "target_texts = ['<start> ' + text + ' <end>' for text in data['turkish']]"
   ]
  },
  {
   "cell_type": "markdown",
   "id": "d38af5dd-e3b5-4f65-a076-15b4a32aab01",
   "metadata": {},
   "source": [
    "### Set hyperparamaeter"
   ]
  },
  {
   "cell_type": "code",
   "execution_count": 6,
   "id": "4420f088-d7bd-4641-9a1a-a7dc9da04f01",
   "metadata": {},
   "outputs": [],
   "source": [
    "output_dir = 'model_output/seq2seq'\n",
    "latent_dim = 256\n",
    "epochs = 20\n",
    "batch_size = 64"
   ]
  },
  {
   "cell_type": "code",
   "execution_count": 71,
   "id": "8d1c29f2-6578-4ec1-958a-5609a5f02b12",
   "metadata": {},
   "outputs": [],
   "source": [
    "# Tokenize the data# Step 3: Tokenize the input (English) texts\n",
    "input_tokenizer = Tokenizer()\n",
    "input_tokenizer.fit_on_texts(input_texts)\n",
    "input_sequences = input_tokenizer.texts_to_sequences(input_texts)\n",
    "input_maxlen = max(len(seq) for seq in input_sequences)\n",
    "input_vocab_size = len(input_tokenizer.word_index) + 1"
   ]
  },
  {
   "cell_type": "code",
   "execution_count": null,
   "id": "40ac40f1-3cb9-4f6f-8e41-55448cc0b7d4",
   "metadata": {},
   "outputs": [],
   "source": []
  },
  {
   "cell_type": "code",
   "execution_count": 72,
   "id": "bfcc86be-f9b6-468a-90ca-e4f35d57b7e0",
   "metadata": {},
   "outputs": [],
   "source": [
    "# Step 4: Tokenize the target (Turkish) texts\n",
    "target_tokenizer = Tokenizer()\n",
    "target_tokenizer.fit_on_texts(target_texts)\n",
    "target_sequences = target_tokenizer.texts_to_sequences(target_texts)\n",
    "target_maxlen = max(len(seq) for seq in target_sequences)\n",
    "target_vocab_size = len(target_tokenizer.word_index) + 1"
   ]
  },
  {
   "cell_type": "code",
   "execution_count": null,
   "id": "da69dbc6-dcac-4cb6-be89-457600300785",
   "metadata": {},
   "outputs": [],
   "source": []
  },
  {
   "cell_type": "code",
   "execution_count": 73,
   "id": "0758ef4e-2d11-4abb-97ff-51e7051c8a13",
   "metadata": {},
   "outputs": [
    {
     "name": "stdout",
     "output_type": "stream",
     "text": [
      "1\n",
      "2\n"
     ]
    }
   ],
   "source": [
    "print(target_tokenizer.word_index['start'])  # Should print the index of <start>\n",
    "print(target_tokenizer.word_index['end'])    # Should print the index of <end>"
   ]
  },
  {
   "cell_type": "code",
   "execution_count": 50,
   "id": "b21d1119-d1a3-4280-8dae-b31fb35a380a",
   "metadata": {},
   "outputs": [],
   "source": [
    "# Save tokenizers for later use\n",
    "import pickle\n",
    "with open(f'{output_dir}/tokenizer/input_tokenizer.pkl', 'wb') as f:\n",
    "    pickle.dump(input_tokenizer, f)\n",
    "with open(f'{output_dir}/tokenizer/target_tokenizer.pkl', 'wb') as f:\n",
    "    pickle.dump(target_tokenizer, f)"
   ]
  },
  {
   "cell_type": "code",
   "execution_count": 51,
   "id": "a3bc8e08-070d-4ea4-8cdb-59c61e3fe562",
   "metadata": {},
   "outputs": [
    {
     "ename": "NameError",
     "evalue": "name 'logger' is not defined",
     "output_type": "error",
     "traceback": [
      "\u001b[0;31m---------------------------------------------------------------------------\u001b[0m",
      "\u001b[0;31mNameError\u001b[0m                                 Traceback (most recent call last)",
      "Input \u001b[0;32mIn [51]\u001b[0m, in \u001b[0;36m<cell line: 5>\u001b[0;34m()\u001b[0m\n\u001b[1;32m      3\u001b[0m \u001b[38;5;28;01mwith\u001b[39;00m \u001b[38;5;28mopen\u001b[39m(\u001b[38;5;124mf\u001b[39m\u001b[38;5;124m'\u001b[39m\u001b[38;5;132;01m{\u001b[39;00moutput_dir\u001b[38;5;132;01m}\u001b[39;00m\u001b[38;5;124m/tokenizer/maxlen_values.pkl\u001b[39m\u001b[38;5;124m'\u001b[39m, \u001b[38;5;124m'\u001b[39m\u001b[38;5;124mwb\u001b[39m\u001b[38;5;124m'\u001b[39m) \u001b[38;5;28;01mas\u001b[39;00m f:\n\u001b[1;32m      4\u001b[0m     pickle\u001b[38;5;241m.\u001b[39mdump(maxlen_dict, f)\n\u001b[0;32m----> 5\u001b[0m \u001b[43mlogger\u001b[49m\u001b[38;5;241m.\u001b[39minfo(\u001b[38;5;124mf\u001b[39m\u001b[38;5;124m\"\u001b[39m\u001b[38;5;124mMaxlen values saved: input_maxlen=\u001b[39m\u001b[38;5;132;01m{\u001b[39;00minput_maxlen\u001b[38;5;132;01m}\u001b[39;00m\u001b[38;5;124m, target_maxlen=\u001b[39m\u001b[38;5;132;01m{\u001b[39;00mtarget_maxlen\u001b[38;5;132;01m}\u001b[39;00m\u001b[38;5;124m\"\u001b[39m)\n",
      "\u001b[0;31mNameError\u001b[0m: name 'logger' is not defined"
     ]
    }
   ],
   "source": [
    "# Save input_maxlen and target_maxlen\n",
    "maxlen_dict = {'input_maxlen': input_maxlen, 'target_maxlen': target_maxlen}\n",
    "with open(f'{output_dir}/tokenizer/maxlen_values.pkl', 'wb') as f:\n",
    "    pickle.dump(maxlen_dict, f)\n",
    "logger.info(f\"Maxlen values saved: input_maxlen={input_maxlen}, target_maxlen={target_maxlen}\")"
   ]
  },
  {
   "cell_type": "code",
   "execution_count": 74,
   "id": "364636c1-eed5-491f-901d-3e66ebbc66ee",
   "metadata": {},
   "outputs": [],
   "source": [
    "# Step 5: Pad sequences\n",
    "input_sequences = pad_sequences(input_sequences, maxlen=input_maxlen, padding='post')\n",
    "target_sequences = pad_sequences(target_sequences, maxlen=target_maxlen, padding='post')"
   ]
  },
  {
   "cell_type": "code",
   "execution_count": 75,
   "id": "d3e3db20-0ae4-437e-9d28-087be5b7e23b",
   "metadata": {},
   "outputs": [],
   "source": [
    "# Step 6: Split data into training and validation sets (80% train, 20% validation)\n",
    "train_input_seq, val_input_seq, train_target_seq, val_target_seq = train_test_split(\n",
    "    input_sequences, target_sequences, test_size=0.2, random_state=42\n",
    ")\n",
    "train_input_texts, val_input_texts = train_test_split(input_texts, test_size=0.2, random_state=42)\n",
    "train_target_texts, val_target_texts = train_test_split(target_texts, test_size=0.2, random_state=42)"
   ]
  },
  {
   "cell_type": "code",
   "execution_count": 76,
   "id": "2dafde98-28fc-46f8-88f0-80adc50fc593",
   "metadata": {},
   "outputs": [],
   "source": [
    "# Prepare decoder input/output for training and validation\n",
    "train_target_input_seq = train_target_seq[:, :-1]\n",
    "train_target_output_seq = train_target_seq[:, 1:]\n",
    "\n",
    "val_target_input_seq = val_target_seq[:, :-1]\n",
    "val_target_output_seq = val_target_seq[:, 1:]"
   ]
  },
  {
   "cell_type": "code",
   "execution_count": null,
   "id": "1db0fda1-46d8-4ba0-a526-7bf0505834e2",
   "metadata": {},
   "outputs": [],
   "source": []
  },
  {
   "cell_type": "code",
   "execution_count": 77,
   "id": "6c673614-a670-44f6-a762-bf60bc6eae5c",
   "metadata": {},
   "outputs": [],
   "source": [
    "# Step 9: Define the Encoder\n",
    "encoder_inputs = Input(shape=(input_maxlen,))\n",
    "encoder_embedding = Embedding(input_vocab_size, latent_dim)(encoder_inputs)\n",
    "encoder_lstm = LSTM(latent_dim, return_state=True)\n",
    "encoder_outputs, state_h, state_c = encoder_lstm(encoder_embedding)\n",
    "encoder_states = [state_h, state_c]\n",
    "\n",
    "# Step 10: Define the Decoder\n",
    "decoder_inputs = Input(shape=(None,))\n",
    "decoder_embedding = Embedding(target_vocab_size, latent_dim)(decoder_inputs)\n",
    "decoder_lstm = LSTM(latent_dim, return_sequences=True, return_state=True)\n",
    "decoder_outputs, _, _ = decoder_lstm(decoder_embedding, initial_state=encoder_states)\n",
    "decoder_dense = Dense(target_vocab_size, activation='softmax')\n",
    "decoder_outputs = decoder_dense(decoder_outputs)"
   ]
  },
  {
   "cell_type": "code",
   "execution_count": 78,
   "id": "c7ef788e-7ec9-43ef-b580-4f9059415e20",
   "metadata": {},
   "outputs": [],
   "source": [
    "# Step 11: Define and Compile the Model with Accuracy Metric\n",
    "model = Model([encoder_inputs, decoder_inputs], decoder_outputs)\n",
    "model.compile(optimizer='adam', \n",
    "              loss='sparse_categorical_crossentropy', \n",
    "              metrics=['sparse_categorical_accuracy'])  # Add accuracy metric"
   ]
  },
  {
   "cell_type": "code",
   "execution_count": 79,
   "id": "3b6d494a-89c6-4766-87c7-0cc378fe0505",
   "metadata": {},
   "outputs": [],
   "source": [
    "# Step 12: Define Callbacks\n",
    "modelcheckpoint = ModelCheckpoint(filepath=output_dir + \"/weights.{epoch:02d}.hdf5\", save_weights_only=True)\n",
    "early_stopping = EarlyStopping(monitor='val_loss', patience=5, restore_best_weights=True)"
   ]
  },
  {
   "cell_type": "code",
   "execution_count": 80,
   "id": "53e6448a-f333-460c-ac22-58c990db7f81",
   "metadata": {},
   "outputs": [
    {
     "name": "stdout",
     "output_type": "stream",
     "text": [
      "Epoch 1/20\n",
      "   4/4375 [..............................] - ETA: 2:56:41 - loss: 11.1312 - sparse_categorical_accuracy: 0.5384  "
     ]
    },
    {
     "ename": "KeyboardInterrupt",
     "evalue": "",
     "output_type": "error",
     "traceback": [
      "\u001b[0;31m---------------------------------------------------------------------------\u001b[0m",
      "\u001b[0;31mKeyboardInterrupt\u001b[0m                         Traceback (most recent call last)",
      "Input \u001b[0;32mIn [80]\u001b[0m, in \u001b[0;36m<cell line: 2>\u001b[0;34m()\u001b[0m\n\u001b[1;32m      1\u001b[0m \u001b[38;5;66;03m# Step 13: Train the Model\u001b[39;00m\n\u001b[0;32m----> 2\u001b[0m history \u001b[38;5;241m=\u001b[39m \u001b[43mmodel\u001b[49m\u001b[38;5;241;43m.\u001b[39;49m\u001b[43mfit\u001b[49m\u001b[43m(\u001b[49m\n\u001b[1;32m      3\u001b[0m \u001b[43m    \u001b[49m\u001b[43m[\u001b[49m\u001b[43mtrain_input_seq\u001b[49m\u001b[43m,\u001b[49m\u001b[43m \u001b[49m\u001b[43mtrain_target_input_seq\u001b[49m\u001b[43m]\u001b[49m\u001b[43m,\u001b[49m\u001b[43m \u001b[49m\u001b[43mtrain_target_output_seq\u001b[49m\u001b[43m,\u001b[49m\n\u001b[1;32m      4\u001b[0m \u001b[43m    \u001b[49m\u001b[43mbatch_size\u001b[49m\u001b[38;5;241;43m=\u001b[39;49m\u001b[43mbatch_size\u001b[49m\u001b[43m,\u001b[49m\u001b[43m \u001b[49m\u001b[43mepochs\u001b[49m\u001b[38;5;241;43m=\u001b[39;49m\u001b[43mepochs\u001b[49m\u001b[43m,\u001b[49m\n\u001b[1;32m      5\u001b[0m \u001b[43m    \u001b[49m\u001b[43mvalidation_data\u001b[49m\u001b[38;5;241;43m=\u001b[39;49m\u001b[43m(\u001b[49m\u001b[43m[\u001b[49m\u001b[43mval_input_seq\u001b[49m\u001b[43m,\u001b[49m\u001b[43m \u001b[49m\u001b[43mval_target_input_seq\u001b[49m\u001b[43m]\u001b[49m\u001b[43m,\u001b[49m\u001b[43m \u001b[49m\u001b[43mval_target_output_seq\u001b[49m\u001b[43m)\u001b[49m\u001b[43m,\u001b[49m\n\u001b[1;32m      6\u001b[0m \u001b[43m    \u001b[49m\u001b[43mcallbacks\u001b[49m\u001b[38;5;241;43m=\u001b[39;49m\u001b[43m[\u001b[49m\u001b[43mmodelcheckpoint\u001b[49m\u001b[43m,\u001b[49m\u001b[43m \u001b[49m\u001b[43mearly_stopping\u001b[49m\u001b[43m]\u001b[49m\u001b[43m,\u001b[49m\n\u001b[1;32m      7\u001b[0m \u001b[43m    \u001b[49m\u001b[43mverbose\u001b[49m\u001b[38;5;241;43m=\u001b[39;49m\u001b[38;5;241;43m1\u001b[39;49m\n\u001b[1;32m      8\u001b[0m \u001b[43m)\u001b[49m\n",
      "File \u001b[0;32m/storage/icds/RISE/sw8/anaconda/conda_envs/tensorflow/lib/python3.10/site-packages/keras/utils/traceback_utils.py:64\u001b[0m, in \u001b[0;36mfilter_traceback.<locals>.error_handler\u001b[0;34m(*args, **kwargs)\u001b[0m\n\u001b[1;32m     62\u001b[0m filtered_tb \u001b[38;5;241m=\u001b[39m \u001b[38;5;28;01mNone\u001b[39;00m\n\u001b[1;32m     63\u001b[0m \u001b[38;5;28;01mtry\u001b[39;00m:\n\u001b[0;32m---> 64\u001b[0m   \u001b[38;5;28;01mreturn\u001b[39;00m \u001b[43mfn\u001b[49m\u001b[43m(\u001b[49m\u001b[38;5;241;43m*\u001b[39;49m\u001b[43margs\u001b[49m\u001b[43m,\u001b[49m\u001b[43m \u001b[49m\u001b[38;5;241;43m*\u001b[39;49m\u001b[38;5;241;43m*\u001b[39;49m\u001b[43mkwargs\u001b[49m\u001b[43m)\u001b[49m\n\u001b[1;32m     65\u001b[0m \u001b[38;5;28;01mexcept\u001b[39;00m \u001b[38;5;167;01mException\u001b[39;00m \u001b[38;5;28;01mas\u001b[39;00m e:  \u001b[38;5;66;03m# pylint: disable=broad-except\u001b[39;00m\n\u001b[1;32m     66\u001b[0m   filtered_tb \u001b[38;5;241m=\u001b[39m _process_traceback_frames(e\u001b[38;5;241m.\u001b[39m__traceback__)\n",
      "File \u001b[0;32m/storage/icds/RISE/sw8/anaconda/conda_envs/tensorflow/lib/python3.10/site-packages/keras/engine/training.py:1384\u001b[0m, in \u001b[0;36mModel.fit\u001b[0;34m(self, x, y, batch_size, epochs, verbose, callbacks, validation_split, validation_data, shuffle, class_weight, sample_weight, initial_epoch, steps_per_epoch, validation_steps, validation_batch_size, validation_freq, max_queue_size, workers, use_multiprocessing)\u001b[0m\n\u001b[1;32m   1377\u001b[0m \u001b[38;5;28;01mwith\u001b[39;00m tf\u001b[38;5;241m.\u001b[39mprofiler\u001b[38;5;241m.\u001b[39mexperimental\u001b[38;5;241m.\u001b[39mTrace(\n\u001b[1;32m   1378\u001b[0m     \u001b[38;5;124m'\u001b[39m\u001b[38;5;124mtrain\u001b[39m\u001b[38;5;124m'\u001b[39m,\n\u001b[1;32m   1379\u001b[0m     epoch_num\u001b[38;5;241m=\u001b[39mepoch,\n\u001b[1;32m   1380\u001b[0m     step_num\u001b[38;5;241m=\u001b[39mstep,\n\u001b[1;32m   1381\u001b[0m     batch_size\u001b[38;5;241m=\u001b[39mbatch_size,\n\u001b[1;32m   1382\u001b[0m     _r\u001b[38;5;241m=\u001b[39m\u001b[38;5;241m1\u001b[39m):\n\u001b[1;32m   1383\u001b[0m   callbacks\u001b[38;5;241m.\u001b[39mon_train_batch_begin(step)\n\u001b[0;32m-> 1384\u001b[0m   tmp_logs \u001b[38;5;241m=\u001b[39m \u001b[38;5;28;43mself\u001b[39;49m\u001b[38;5;241;43m.\u001b[39;49m\u001b[43mtrain_function\u001b[49m\u001b[43m(\u001b[49m\u001b[43miterator\u001b[49m\u001b[43m)\u001b[49m\n\u001b[1;32m   1385\u001b[0m   \u001b[38;5;28;01mif\u001b[39;00m data_handler\u001b[38;5;241m.\u001b[39mshould_sync:\n\u001b[1;32m   1386\u001b[0m     context\u001b[38;5;241m.\u001b[39masync_wait()\n",
      "File \u001b[0;32m/storage/icds/RISE/sw8/anaconda/conda_envs/tensorflow/lib/python3.10/site-packages/tensorflow/python/util/traceback_utils.py:150\u001b[0m, in \u001b[0;36mfilter_traceback.<locals>.error_handler\u001b[0;34m(*args, **kwargs)\u001b[0m\n\u001b[1;32m    148\u001b[0m filtered_tb \u001b[38;5;241m=\u001b[39m \u001b[38;5;28;01mNone\u001b[39;00m\n\u001b[1;32m    149\u001b[0m \u001b[38;5;28;01mtry\u001b[39;00m:\n\u001b[0;32m--> 150\u001b[0m   \u001b[38;5;28;01mreturn\u001b[39;00m \u001b[43mfn\u001b[49m\u001b[43m(\u001b[49m\u001b[38;5;241;43m*\u001b[39;49m\u001b[43margs\u001b[49m\u001b[43m,\u001b[49m\u001b[43m \u001b[49m\u001b[38;5;241;43m*\u001b[39;49m\u001b[38;5;241;43m*\u001b[39;49m\u001b[43mkwargs\u001b[49m\u001b[43m)\u001b[49m\n\u001b[1;32m    151\u001b[0m \u001b[38;5;28;01mexcept\u001b[39;00m \u001b[38;5;167;01mException\u001b[39;00m \u001b[38;5;28;01mas\u001b[39;00m e:\n\u001b[1;32m    152\u001b[0m   filtered_tb \u001b[38;5;241m=\u001b[39m _process_traceback_frames(e\u001b[38;5;241m.\u001b[39m__traceback__)\n",
      "File \u001b[0;32m/storage/icds/RISE/sw8/anaconda/conda_envs/tensorflow/lib/python3.10/site-packages/tensorflow/python/eager/def_function.py:915\u001b[0m, in \u001b[0;36mFunction.__call__\u001b[0;34m(self, *args, **kwds)\u001b[0m\n\u001b[1;32m    912\u001b[0m compiler \u001b[38;5;241m=\u001b[39m \u001b[38;5;124m\"\u001b[39m\u001b[38;5;124mxla\u001b[39m\u001b[38;5;124m\"\u001b[39m \u001b[38;5;28;01mif\u001b[39;00m \u001b[38;5;28mself\u001b[39m\u001b[38;5;241m.\u001b[39m_jit_compile \u001b[38;5;28;01melse\u001b[39;00m \u001b[38;5;124m\"\u001b[39m\u001b[38;5;124mnonXla\u001b[39m\u001b[38;5;124m\"\u001b[39m\n\u001b[1;32m    914\u001b[0m \u001b[38;5;28;01mwith\u001b[39;00m OptionalXlaContext(\u001b[38;5;28mself\u001b[39m\u001b[38;5;241m.\u001b[39m_jit_compile):\n\u001b[0;32m--> 915\u001b[0m   result \u001b[38;5;241m=\u001b[39m \u001b[38;5;28;43mself\u001b[39;49m\u001b[38;5;241;43m.\u001b[39;49m\u001b[43m_call\u001b[49m\u001b[43m(\u001b[49m\u001b[38;5;241;43m*\u001b[39;49m\u001b[43margs\u001b[49m\u001b[43m,\u001b[49m\u001b[43m \u001b[49m\u001b[38;5;241;43m*\u001b[39;49m\u001b[38;5;241;43m*\u001b[39;49m\u001b[43mkwds\u001b[49m\u001b[43m)\u001b[49m\n\u001b[1;32m    917\u001b[0m new_tracing_count \u001b[38;5;241m=\u001b[39m \u001b[38;5;28mself\u001b[39m\u001b[38;5;241m.\u001b[39mexperimental_get_tracing_count()\n\u001b[1;32m    918\u001b[0m without_tracing \u001b[38;5;241m=\u001b[39m (tracing_count \u001b[38;5;241m==\u001b[39m new_tracing_count)\n",
      "File \u001b[0;32m/storage/icds/RISE/sw8/anaconda/conda_envs/tensorflow/lib/python3.10/site-packages/tensorflow/python/eager/def_function.py:947\u001b[0m, in \u001b[0;36mFunction._call\u001b[0;34m(self, *args, **kwds)\u001b[0m\n\u001b[1;32m    944\u001b[0m   \u001b[38;5;28mself\u001b[39m\u001b[38;5;241m.\u001b[39m_lock\u001b[38;5;241m.\u001b[39mrelease()\n\u001b[1;32m    945\u001b[0m   \u001b[38;5;66;03m# In this case we have created variables on the first call, so we run the\u001b[39;00m\n\u001b[1;32m    946\u001b[0m   \u001b[38;5;66;03m# defunned version which is guaranteed to never create variables.\u001b[39;00m\n\u001b[0;32m--> 947\u001b[0m   \u001b[38;5;28;01mreturn\u001b[39;00m \u001b[38;5;28;43mself\u001b[39;49m\u001b[38;5;241;43m.\u001b[39;49m\u001b[43m_stateless_fn\u001b[49m\u001b[43m(\u001b[49m\u001b[38;5;241;43m*\u001b[39;49m\u001b[43margs\u001b[49m\u001b[43m,\u001b[49m\u001b[43m \u001b[49m\u001b[38;5;241;43m*\u001b[39;49m\u001b[38;5;241;43m*\u001b[39;49m\u001b[43mkwds\u001b[49m\u001b[43m)\u001b[49m  \u001b[38;5;66;03m# pylint: disable=not-callable\u001b[39;00m\n\u001b[1;32m    948\u001b[0m \u001b[38;5;28;01melif\u001b[39;00m \u001b[38;5;28mself\u001b[39m\u001b[38;5;241m.\u001b[39m_stateful_fn \u001b[38;5;129;01mis\u001b[39;00m \u001b[38;5;129;01mnot\u001b[39;00m \u001b[38;5;28;01mNone\u001b[39;00m:\n\u001b[1;32m    949\u001b[0m   \u001b[38;5;66;03m# Release the lock early so that multiple threads can perform the call\u001b[39;00m\n\u001b[1;32m    950\u001b[0m   \u001b[38;5;66;03m# in parallel.\u001b[39;00m\n\u001b[1;32m    951\u001b[0m   \u001b[38;5;28mself\u001b[39m\u001b[38;5;241m.\u001b[39m_lock\u001b[38;5;241m.\u001b[39mrelease()\n",
      "File \u001b[0;32m/storage/icds/RISE/sw8/anaconda/conda_envs/tensorflow/lib/python3.10/site-packages/tensorflow/python/eager/function.py:2956\u001b[0m, in \u001b[0;36mFunction.__call__\u001b[0;34m(self, *args, **kwargs)\u001b[0m\n\u001b[1;32m   2953\u001b[0m \u001b[38;5;28;01mwith\u001b[39;00m \u001b[38;5;28mself\u001b[39m\u001b[38;5;241m.\u001b[39m_lock:\n\u001b[1;32m   2954\u001b[0m   (graph_function,\n\u001b[1;32m   2955\u001b[0m    filtered_flat_args) \u001b[38;5;241m=\u001b[39m \u001b[38;5;28mself\u001b[39m\u001b[38;5;241m.\u001b[39m_maybe_define_function(args, kwargs)\n\u001b[0;32m-> 2956\u001b[0m \u001b[38;5;28;01mreturn\u001b[39;00m \u001b[43mgraph_function\u001b[49m\u001b[38;5;241;43m.\u001b[39;49m\u001b[43m_call_flat\u001b[49m\u001b[43m(\u001b[49m\n\u001b[1;32m   2957\u001b[0m \u001b[43m    \u001b[49m\u001b[43mfiltered_flat_args\u001b[49m\u001b[43m,\u001b[49m\u001b[43m \u001b[49m\u001b[43mcaptured_inputs\u001b[49m\u001b[38;5;241;43m=\u001b[39;49m\u001b[43mgraph_function\u001b[49m\u001b[38;5;241;43m.\u001b[39;49m\u001b[43mcaptured_inputs\u001b[49m\u001b[43m)\u001b[49m\n",
      "File \u001b[0;32m/storage/icds/RISE/sw8/anaconda/conda_envs/tensorflow/lib/python3.10/site-packages/tensorflow/python/eager/function.py:1853\u001b[0m, in \u001b[0;36mConcreteFunction._call_flat\u001b[0;34m(self, args, captured_inputs, cancellation_manager)\u001b[0m\n\u001b[1;32m   1849\u001b[0m possible_gradient_type \u001b[38;5;241m=\u001b[39m gradients_util\u001b[38;5;241m.\u001b[39mPossibleTapeGradientTypes(args)\n\u001b[1;32m   1850\u001b[0m \u001b[38;5;28;01mif\u001b[39;00m (possible_gradient_type \u001b[38;5;241m==\u001b[39m gradients_util\u001b[38;5;241m.\u001b[39mPOSSIBLE_GRADIENT_TYPES_NONE\n\u001b[1;32m   1851\u001b[0m     \u001b[38;5;129;01mand\u001b[39;00m executing_eagerly):\n\u001b[1;32m   1852\u001b[0m   \u001b[38;5;66;03m# No tape is watching; skip to running the function.\u001b[39;00m\n\u001b[0;32m-> 1853\u001b[0m   \u001b[38;5;28;01mreturn\u001b[39;00m \u001b[38;5;28mself\u001b[39m\u001b[38;5;241m.\u001b[39m_build_call_outputs(\u001b[38;5;28;43mself\u001b[39;49m\u001b[38;5;241;43m.\u001b[39;49m\u001b[43m_inference_function\u001b[49m\u001b[38;5;241;43m.\u001b[39;49m\u001b[43mcall\u001b[49m\u001b[43m(\u001b[49m\n\u001b[1;32m   1854\u001b[0m \u001b[43m      \u001b[49m\u001b[43mctx\u001b[49m\u001b[43m,\u001b[49m\u001b[43m \u001b[49m\u001b[43margs\u001b[49m\u001b[43m,\u001b[49m\u001b[43m \u001b[49m\u001b[43mcancellation_manager\u001b[49m\u001b[38;5;241;43m=\u001b[39;49m\u001b[43mcancellation_manager\u001b[49m\u001b[43m)\u001b[49m)\n\u001b[1;32m   1855\u001b[0m forward_backward \u001b[38;5;241m=\u001b[39m \u001b[38;5;28mself\u001b[39m\u001b[38;5;241m.\u001b[39m_select_forward_and_backward_functions(\n\u001b[1;32m   1856\u001b[0m     args,\n\u001b[1;32m   1857\u001b[0m     possible_gradient_type,\n\u001b[1;32m   1858\u001b[0m     executing_eagerly)\n\u001b[1;32m   1859\u001b[0m forward_function, args_with_tangents \u001b[38;5;241m=\u001b[39m forward_backward\u001b[38;5;241m.\u001b[39mforward()\n",
      "File \u001b[0;32m/storage/icds/RISE/sw8/anaconda/conda_envs/tensorflow/lib/python3.10/site-packages/tensorflow/python/eager/function.py:499\u001b[0m, in \u001b[0;36m_EagerDefinedFunction.call\u001b[0;34m(self, ctx, args, cancellation_manager)\u001b[0m\n\u001b[1;32m    497\u001b[0m \u001b[38;5;28;01mwith\u001b[39;00m _InterpolateFunctionError(\u001b[38;5;28mself\u001b[39m):\n\u001b[1;32m    498\u001b[0m   \u001b[38;5;28;01mif\u001b[39;00m cancellation_manager \u001b[38;5;129;01mis\u001b[39;00m \u001b[38;5;28;01mNone\u001b[39;00m:\n\u001b[0;32m--> 499\u001b[0m     outputs \u001b[38;5;241m=\u001b[39m \u001b[43mexecute\u001b[49m\u001b[38;5;241;43m.\u001b[39;49m\u001b[43mexecute\u001b[49m\u001b[43m(\u001b[49m\n\u001b[1;32m    500\u001b[0m \u001b[43m        \u001b[49m\u001b[38;5;28;43mstr\u001b[39;49m\u001b[43m(\u001b[49m\u001b[38;5;28;43mself\u001b[39;49m\u001b[38;5;241;43m.\u001b[39;49m\u001b[43msignature\u001b[49m\u001b[38;5;241;43m.\u001b[39;49m\u001b[43mname\u001b[49m\u001b[43m)\u001b[49m\u001b[43m,\u001b[49m\n\u001b[1;32m    501\u001b[0m \u001b[43m        \u001b[49m\u001b[43mnum_outputs\u001b[49m\u001b[38;5;241;43m=\u001b[39;49m\u001b[38;5;28;43mself\u001b[39;49m\u001b[38;5;241;43m.\u001b[39;49m\u001b[43m_num_outputs\u001b[49m\u001b[43m,\u001b[49m\n\u001b[1;32m    502\u001b[0m \u001b[43m        \u001b[49m\u001b[43minputs\u001b[49m\u001b[38;5;241;43m=\u001b[39;49m\u001b[43margs\u001b[49m\u001b[43m,\u001b[49m\n\u001b[1;32m    503\u001b[0m \u001b[43m        \u001b[49m\u001b[43mattrs\u001b[49m\u001b[38;5;241;43m=\u001b[39;49m\u001b[43mattrs\u001b[49m\u001b[43m,\u001b[49m\n\u001b[1;32m    504\u001b[0m \u001b[43m        \u001b[49m\u001b[43mctx\u001b[49m\u001b[38;5;241;43m=\u001b[39;49m\u001b[43mctx\u001b[49m\u001b[43m)\u001b[49m\n\u001b[1;32m    505\u001b[0m   \u001b[38;5;28;01melse\u001b[39;00m:\n\u001b[1;32m    506\u001b[0m     outputs \u001b[38;5;241m=\u001b[39m execute\u001b[38;5;241m.\u001b[39mexecute_with_cancellation(\n\u001b[1;32m    507\u001b[0m         \u001b[38;5;28mstr\u001b[39m(\u001b[38;5;28mself\u001b[39m\u001b[38;5;241m.\u001b[39msignature\u001b[38;5;241m.\u001b[39mname),\n\u001b[1;32m    508\u001b[0m         num_outputs\u001b[38;5;241m=\u001b[39m\u001b[38;5;28mself\u001b[39m\u001b[38;5;241m.\u001b[39m_num_outputs,\n\u001b[0;32m   (...)\u001b[0m\n\u001b[1;32m    511\u001b[0m         ctx\u001b[38;5;241m=\u001b[39mctx,\n\u001b[1;32m    512\u001b[0m         cancellation_manager\u001b[38;5;241m=\u001b[39mcancellation_manager)\n",
      "File \u001b[0;32m/storage/icds/RISE/sw8/anaconda/conda_envs/tensorflow/lib/python3.10/site-packages/tensorflow/python/eager/execute.py:54\u001b[0m, in \u001b[0;36mquick_execute\u001b[0;34m(op_name, num_outputs, inputs, attrs, ctx, name)\u001b[0m\n\u001b[1;32m     52\u001b[0m \u001b[38;5;28;01mtry\u001b[39;00m:\n\u001b[1;32m     53\u001b[0m   ctx\u001b[38;5;241m.\u001b[39mensure_initialized()\n\u001b[0;32m---> 54\u001b[0m   tensors \u001b[38;5;241m=\u001b[39m \u001b[43mpywrap_tfe\u001b[49m\u001b[38;5;241;43m.\u001b[39;49m\u001b[43mTFE_Py_Execute\u001b[49m\u001b[43m(\u001b[49m\u001b[43mctx\u001b[49m\u001b[38;5;241;43m.\u001b[39;49m\u001b[43m_handle\u001b[49m\u001b[43m,\u001b[49m\u001b[43m \u001b[49m\u001b[43mdevice_name\u001b[49m\u001b[43m,\u001b[49m\u001b[43m \u001b[49m\u001b[43mop_name\u001b[49m\u001b[43m,\u001b[49m\n\u001b[1;32m     55\u001b[0m \u001b[43m                                      \u001b[49m\u001b[43minputs\u001b[49m\u001b[43m,\u001b[49m\u001b[43m \u001b[49m\u001b[43mattrs\u001b[49m\u001b[43m,\u001b[49m\u001b[43m \u001b[49m\u001b[43mnum_outputs\u001b[49m\u001b[43m)\u001b[49m\n\u001b[1;32m     56\u001b[0m \u001b[38;5;28;01mexcept\u001b[39;00m core\u001b[38;5;241m.\u001b[39m_NotOkStatusException \u001b[38;5;28;01mas\u001b[39;00m e:\n\u001b[1;32m     57\u001b[0m   \u001b[38;5;28;01mif\u001b[39;00m name \u001b[38;5;129;01mis\u001b[39;00m \u001b[38;5;129;01mnot\u001b[39;00m \u001b[38;5;28;01mNone\u001b[39;00m:\n",
      "\u001b[0;31mKeyboardInterrupt\u001b[0m: "
     ]
    }
   ],
   "source": [
    "# Step 13: Train the Model\n",
    "history = model.fit(\n",
    "    [train_input_seq, train_target_input_seq], train_target_output_seq,\n",
    "    batch_size=batch_size, epochs=epochs,\n",
    "    validation_data=([val_input_seq, val_target_input_seq], val_target_output_seq),\n",
    "    callbacks=[modelcheckpoint, early_stopping],\n",
    "    verbose=1\n",
    ")"
   ]
  },
  {
   "cell_type": "code",
   "execution_count": null,
   "id": "c25149dc-8166-4573-a450-eb2b7bdcf19a",
   "metadata": {},
   "outputs": [],
   "source": []
  },
  {
   "cell_type": "code",
   "execution_count": 203,
   "id": "06e6ad6f-33cc-4d02-94e1-13b59ea9b76c",
   "metadata": {},
   "outputs": [
    {
     "data": {
      "image/png": "[encoded data removed]",
      "text/plain": [
       "<Figure size 864x288 with 2 Axes>"
      ]
     },
     "metadata": {
      "needs_background": "light"
     },
     "output_type": "display_data"
    }
   ],
   "source": [
    "# Plot training history\n",
    "plt.figure(figsize=(12, 4))\n",
    "plt.subplot(1, 2, 1)\n",
    "plt.plot(history.history['sparse_categorical_accuracy'], label='Training Accuracy')\n",
    "plt.plot(history.history['val_sparse_categorical_accuracy'], label='Validation Accuracy')\n",
    "plt.title('Model Accuracy')\n",
    "plt.xlabel('Epoch')\n",
    "plt.ylabel('Accuracy')\n",
    "plt.legend()\n",
    "    \n",
    "plt.subplot(1, 2, 2)\n",
    "plt.plot(history.history['loss'], label='Training Loss')\n",
    "plt.plot(history.history['val_loss'], label='Validation Loss')\n",
    "plt.title('Model Loss')\n",
    "plt.xlabel('Epoch')\n",
    "plt.ylabel('Loss')\n",
    "plt.legend()\n",
    "    \n",
    "plt.tight_layout()\n",
    "plt.show()\n",
    "# plt.savefig(f'{OUTPUT_DIR}/plots/training_history.png')\n",
    "plt.close()"
   ]
  },
  {
   "cell_type": "code",
   "execution_count": null,
   "id": "d81dfb3e-6e67-4872-91bc-c900cfaf03e7",
   "metadata": {},
   "outputs": [],
   "source": []
  },
  {
   "cell_type": "code",
   "execution_count": null,
   "id": "8aff4d39-9d2e-4313-9959-c95075686f28",
   "metadata": {},
   "outputs": [],
   "source": []
  },
  {
   "cell_type": "code",
   "execution_count": 204,
   "id": "47f00d98-4c2b-4a74-b722-c904062970d9",
   "metadata": {},
   "outputs": [],
   "source": [
    "# Step 14: Define Inference Models\n",
    "encoder_model = Model(encoder_inputs, encoder_states, name='encoder_model')\n",
    "decoder_state_input_h = Input(shape=(latent_dim,), name='decoder_state_input_h')\n",
    "decoder_state_input_c = Input(shape=(latent_dim,), name='decoder_state_input_c')\n",
    "decoder_states_inputs = [decoder_state_input_h, decoder_state_input_c]\n",
    "decoder_outputs, state_h, state_c = decoder_lstm(decoder_embedding, initial_state=decoder_states_inputs)\n",
    "decoder_states = [state_h, state_c]\n",
    "decoder_outputs = decoder_dense(decoder_outputs)\n",
    "decoder_model = Model([decoder_inputs] + decoder_states_inputs, [decoder_outputs] + decoder_states, name='decoder_model')"
   ]
  },
  {
   "cell_type": "code",
   "execution_count": 205,
   "id": "537ecd37-6c29-4772-bd46-5231b4a05dba",
   "metadata": {},
   "outputs": [
    {
     "name": "stdout",
     "output_type": "stream",
     "text": [
      "WARNING:tensorflow:Compiled the loaded model, but the compiled metrics have yet to be built. `model.compile_metrics` will be empty until you train or evaluate the model.\n",
      "WARNING:tensorflow:Compiled the loaded model, but the compiled metrics have yet to be built. `model.compile_metrics` will be empty until you train or evaluate the model.\n",
      "Models saved successfully.\n"
     ]
    }
   ],
   "source": [
    "# Step 15: Save the Models\n",
    "model.save(output_dir + '/training_model.h5')  # Save the full training model\n",
    "encoder_model.save(output_dir + '/encoder_model.h5')  # Save the encoder model\n",
    "decoder_model.save(output_dir + '/decoder_model.h5')  # Save the decoder model\n",
    "print(\"Models saved successfully.\")"
   ]
  },
  {
   "cell_type": "code",
   "execution_count": 7,
   "id": "f591aac8-a8d1-4409-8c7e-a12f86590878",
   "metadata": {},
   "outputs": [],
   "source": [
    "from tensorflow.keras.models import Model, load_model"
   ]
  },
  {
   "cell_type": "code",
   "execution_count": 8,
   "id": "c690dcdb-57a5-4d2e-b7db-862236b8f0ce",
   "metadata": {},
   "outputs": [],
   "source": [
    "# Step 16: Load Models and Translate\n",
    "# Load tokenizers\n",
    "with open(f'{output_dir}/tokenizer/input_tokenizer.pkl', 'rb') as f:\n",
    "    loaded_input_tokenizer = pickle.load(f)\n",
    "with open(f'{output_dir}/tokenizer/target_tokenizer.pkl', 'rb') as f:\n",
    "    loaded_target_tokenizer = pickle.load(f)\n",
    "    \n",
    "with open(f'{output_dir}/tokenizer/maxlen_values.pkl', 'rb') as f:\n",
    "    maxlen = pickle.load(f)"
   ]
  },
  {
   "cell_type": "code",
   "execution_count": 9,
   "id": "260801b1-5949-465d-8516-bac59765ce78",
   "metadata": {},
   "outputs": [
    {
     "data": {
      "text/plain": [
       "19"
      ]
     },
     "execution_count": 9,
     "metadata": {},
     "output_type": "execute_result"
    }
   ],
   "source": [
    "maxlen['target_maxlen']"
   ]
  },
  {
   "cell_type": "code",
   "execution_count": 10,
   "id": "5f176c0b-80ed-4d6e-a3fd-c680b76ce027",
   "metadata": {},
   "outputs": [
    {
     "name": "stderr",
     "output_type": "stream",
     "text": [
      "2025-03-20 12:02:14.286038: W tensorflow/stream_executor/platform/default/dso_loader.cc:64] Could not load dynamic library 'libcuda.so.1'; dlerror: libcuda.so.1: cannot open shared object file: No such file or directory; LD_LIBRARY_PATH: /storage/icds/RISE/sw8/geos-3.11.2/lib64:/storage/icds/RISE/sw8/tiff-4.5.0/lib64:/storage/icds/RISE/sw8/gdal-3.6.4/lib64:/storage/icds/RISE/sw8/proj-9.2.0/lib64:/storage/icds/RISE/sw8/R-4.2.1-gcc-8.5.0/install/rpms/usr/lib64:/storage/icds/RISE/sw8/R-4.2.1-gcc-8.5.0/packages/usr/lib64:/storage/icds/RISE/sw8/R-4.2.1-gcc-8.5.0/install/packages/install/lib:/storage/icds/RISE/sw8/R-4.2.1-gcc-8.5.0/install/libs:/storage/icds/RISE/sw8/R-4.2.1-gcc-8.5.0/install/lib64/R/lib:/storage/icds/RISE/sw8/gsl-2.7.1/lib:/storage/icds/RISE/sw8/anaconda/anaconda3/envs/tensorflow/lib:/usr/lib64:/storage/icds/RISE/sw8/anaconda/anaconda3/lib\n",
      "2025-03-20 12:02:14.286091: W tensorflow/stream_executor/cuda/cuda_driver.cc:269] failed call to cuInit: UNKNOWN ERROR (303)\n",
      "2025-03-20 12:02:14.286120: I tensorflow/stream_executor/cuda/cuda_diagnostics.cc:156] kernel driver does not appear to be running on this host (p-bc-5064): /proc/driver/nvidia/version does not exist\n",
      "2025-03-20 12:02:14.287562: I tensorflow/core/platform/cpu_feature_guard.cc:151] This TensorFlow binary is optimized with oneAPI Deep Neural Network Library (oneDNN) to use the following CPU instructions in performance-critical operations:  AVX2 FMA\n",
      "To enable them in other operations, rebuild TensorFlow with the appropriate compiler flags.\n"
     ]
    }
   ],
   "source": [
    "# Load inference models\n",
    "loaded_encoder_model = load_model(output_dir + '/encoder_model.h5', compile=False)\n",
    "loaded_decoder_model = load_model(output_dir + '/decoder_model.h5', compile=False)\n"
   ]
  },
  {
   "cell_type": "code",
   "execution_count": null,
   "id": "fe2f7995-4b79-4fa4-9f04-ce9bc9ded2b0",
   "metadata": {},
   "outputs": [],
   "source": []
  },
  {
   "cell_type": "code",
   "execution_count": 11,
   "id": "8679f340-960a-4e43-9e21-09f671badc2c",
   "metadata": {},
   "outputs": [],
   "source": [
    "# Define translation function using loaded models\n",
    "def translate_sentence(sentence, encoder_model, decoder_model, input_tokenizer, target_tokenizer, input_maxlen, target_maxlen):\n",
    "    # Preprocess input sentence\n",
    "    input_seq = input_tokenizer.texts_to_sequences([sentence])\n",
    "    input_seq = pad_sequences(input_seq, maxlen=input_maxlen, padding='post')\n",
    "    \n",
    "    # Encode the input\n",
    "    states_value = encoder_model.predict(input_seq, verbose=0)\n",
    "    \n",
    "    # Decode step-by-step\n",
    "    target_seq = np.zeros((1, 1))\n",
    "    target_seq[0, 0] = target_tokenizer.word_index['<start>']\n",
    "    stop_condition = False\n",
    "    decoded_sentence = ''\n",
    "    end_token_idx = target_tokenizer.word_index['<end>']\n",
    "    \n",
    "    while not stop_condition:\n",
    "        output_tokens, h, c = decoder_model.predict([target_seq] + states_value, verbose=0)\n",
    "        sampled_token_index = np.argmax(output_tokens[0, -1, :])\n",
    "        sampled_word = target_tokenizer.index_word.get(sampled_token_index, '')\n",
    "        \n",
    "        if sampled_word == '<end>' or len(decoded_sentence.split()) >= target_maxlen:\n",
    "            stop_condition = True\n",
    "        elif sampled_word != '<start>':\n",
    "            decoded_sentence += sampled_word + ' '\n",
    "        \n",
    "        target_seq = np.zeros((1, 1))\n",
    "        target_seq[0, 0] = sampled_token_index\n",
    "        states_value = [h, c]\n",
    "    \n",
    "    return decoded_sentence.strip()"
   ]
  },
  {
   "cell_type": "code",
   "execution_count": 12,
   "id": "584aa0ea-5354-4a0f-8e5d-c0e900c93b64",
   "metadata": {},
   "outputs": [
    {
     "name": "stdout",
     "output_type": "stream",
     "text": [
      "Input Sentence: Hi.\n",
      "Translated Sentence: Selam.\n"
     ]
    }
   ],
   "source": [
    "# Test translation with loaded models\n",
    "test_sentence = \"Hi.\"\n",
    "translation = translate_sentence(test_sentence, loaded_encoder_model, loaded_decoder_model, \n",
    "                                loaded_input_tokenizer, loaded_target_tokenizer, maxlen['input_maxlen'],maxlen['target_maxlen'] )\n",
    "print(f\"Input Sentence: {test_sentence}\")\n",
    "print(f\"Translated Sentence: {translation}\")"
   ]
  },
  {
   "cell_type": "code",
   "execution_count": null,
   "id": "94cfecaf-dbae-4025-b83e-d10cb74c73d9",
   "metadata": {},
   "outputs": [],
   "source": []
  },
  {
   "cell_type": "code",
   "execution_count": null,
   "id": "3509c064-36fb-47a7-96d6-d05482c0b73a",
   "metadata": {},
   "outputs": [],
   "source": []
  },
  {
   "cell_type": "code",
   "execution_count": null,
   "id": "57190f68-b3db-4ac8-97ba-074263689593",
   "metadata": {},
   "outputs": [],
   "source": []
  },
  {
   "cell_type": "code",
   "execution_count": null,
   "id": "bbb85209-179b-47a5-b298-b27624016797",
   "metadata": {},
   "outputs": [],
   "source": []
  },
  {
   "cell_type": "code",
   "execution_count": null,
   "id": "5c64b5a2-deba-4f22-9c3f-757a3e835a42",
   "metadata": {},
   "outputs": [],
   "source": []
  },
  {
   "cell_type": "code",
   "execution_count": null,
   "id": "9076c226-164a-44d5-b8e2-dd0c0f8f995b",
   "metadata": {},
   "outputs": [],
   "source": []
  },
  {
   "cell_type": "code",
   "execution_count": null,
   "id": "51ddc2c6-7d88-445e-9fe8-6890f67e9ff3",
   "metadata": {},
   "outputs": [],
   "source": []
  },
  {
   "cell_type": "code",
   "execution_count": null,
   "id": "ae53e174-2a1a-477b-86f5-24153b41beca",
   "metadata": {},
   "outputs": [],
   "source": []
  },
  {
   "cell_type": "code",
   "execution_count": 14,
   "id": "4f23a905-b14a-4f7b-9487-90fd2a1baad8",
   "metadata": {},
   "outputs": [],
   "source": [
    "import torch\n",
    "from transformers import MarianTokenizer, MarianMTModel\n"
   ]
  },
  {
   "cell_type": "code",
   "execution_count": null,
   "id": "13a02d6c-2cc2-41b5-a81e-8578d13bd479",
   "metadata": {},
   "outputs": [],
   "source": []
  },
  {
   "cell_type": "code",
   "execution_count": null,
   "id": "f995296a-99b3-44bd-8273-9db61dbf0634",
   "metadata": {},
   "outputs": [],
   "source": []
  },
  {
   "cell_type": "code",
   "execution_count": 12,
   "id": "97355db1-b904-45bb-8079-e7da4adf9d3e",
   "metadata": {},
   "outputs": [],
   "source": [
    "\n",
    "\n",
    "\n",
    "\n",
    "def load_and_translate(model_path, text, max_length=128, device=None):\n",
    "    \"\"\"\n",
    "    Load a pre-trained MarianMT model and translate English text to Spanish.\n",
    "    \n",
    "    Args:\n",
    "        model_path (str): Path to the directory containing the saved model and tokenizer\n",
    "        text (str): English text to translate\n",
    "        max_length (int): Maximum length of the input sequence (default: 128)\n",
    "        device (str or torch.device): Device to run the model on (default: auto-detect)\n",
    "    \n",
    "    Returns:\n",
    "        str: Translated Spanish text\n",
    "    \"\"\"\n",
    "    try:\n",
    "        # Set device if not specified\n",
    "        if device is None:\n",
    "            device = torch.device(\"cuda\" if torch.cuda.is_available() else \"cpu\")\n",
    "        \n",
    "        # Log the loading process\n",
    "        print(f\"Loading model from {model_path} for translation...\")\n",
    "        \n",
    "        # Load tokenizer and model\n",
    "        tokenizer = MarianTokenizer.from_pretrained(model_path)\n",
    "        model = MarianMTModel.from_pretrained(model_path)\n",
    "        \n",
    "        # Move model to appropriate device\n",
    "        model.to(device)\n",
    "        model.eval()\n",
    "        \n",
    "        # Tokenize input text\n",
    "        print(f\"Tokenizing input text: '{text}'\")\n",
    "        inputs = tokenizer(\n",
    "            text,\n",
    "            return_tensors=\"pt\",\n",
    "            truncation=True,\n",
    "            padding=\"max_length\",\n",
    "            max_length=max_length\n",
    "        ).to(device)\n",
    "        \n",
    "        # Generate translation\n",
    "        with torch.no_grad():\n",
    "            translated = model.generate(**inputs)\n",
    "        \n",
    "        # Decode the translation\n",
    "        translation = tokenizer.decode(translated[0], skip_special_tokens=True)\n",
    "        print(f\"Translated '{text}' to '{translation}'\")\n",
    "        \n",
    "        return translation\n",
    "    \n",
    "    except Exception as e:\n",
    "        print(f\"Error during translation: {str(e)}\")\n",
    "        raise\n"
   ]
  },
  {
   "cell_type": "code",
   "execution_count": 13,
   "id": "71bd61a3-b3a8-4b4f-bb61-2e8c9c54e03a",
   "metadata": {},
   "outputs": [
    {
     "name": "stdout",
     "output_type": "stream",
     "text": [
      "Loading model from /storage/work/mqf5675/Masters/NLP/project/model_output/transformer_en_es for translation...\n",
      "Tokenizing input text: 'Hello, how are you?'\n",
      "Translated 'Hello, how are you?' to 'Hola, ¿cómo estás?'\n",
      "Translation: Hola, ¿cómo estás?\n",
      "Loading model from /storage/work/mqf5675/Masters/NLP/project/model_output/transformer_en_es for translation...\n",
      "Tokenizing input text: 'go.'\n",
      "Translated 'go.' to 've.'\n",
      "Translation: ve.\n"
     ]
    }
   ],
   "source": [
    "# Example usage\n",
    "if __name__ == \"__main__\":\n",
    "    # Path to your saved model\n",
    "    MODEL_PATH = '/storage/work/mqf5675/Masters/NLP/project/model_output/transformer_en_du'\n",
    "    \n",
    "    # Example translations\n",
    "    try:\n",
    "        # Single sentence\n",
    "        result1 = load_and_translate(MODEL_PATH, \"Hello, how are you?\")\n",
    "        print(f\"Translation: {result1}\")\n",
    "        \n",
    "        # Another example\n",
    "        result2 = load_and_translate(MODEL_PATH, \"go.\")\n",
    "        print(f\"Translation: {result2}\")\n",
    "        \n",
    "    except Exception as e:\n",
    "        print(f\"Failed to translate: {str(e)}\")"
   ]
  },
  {
   "cell_type": "code",
   "execution_count": null,
   "id": "ee86e786-6c9f-48a1-bdbf-9814ada0ca9c",
   "metadata": {},
   "outputs": [],
   "source": []
  },
  {
   "cell_type": "code",
   "execution_count": null,
   "id": "25595abd-4dcb-42fd-99be-46dc73f905e3",
   "metadata": {},
   "outputs": [],
   "source": []
  }
 ],
 "metadata": {
  "kernelspec": {
   "display_name": "Python 3 (ipykernel)",
   "language": "python",
   "name": "python3"
  },
  "language_info": {
   "codemirror_mode": {
    "name": "ipython",
    "version": 3
   },
   "file_extension": ".py",
   "mimetype": "text/x-python",
   "name": "python",
   "nbconvert_exporter": "python",
   "pygments_lexer": "ipython3",
   "version": "3.10.4"
  }
 },
 "nbformat": 4,
 "nbformat_minor": 5
}
