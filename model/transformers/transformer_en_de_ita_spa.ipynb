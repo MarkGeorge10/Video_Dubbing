{
 "cells": [
  {
   "cell_type": "code",
   "execution_count": null,
   "id": "efeaabc8",
   "metadata": {},
   "outputs": [],
   "source": []
  },
  {
   "cell_type": "code",
   "execution_count": null,
   "id": "fff60fcd",
   "metadata": {},
   "outputs": [],
   "source": [
    "import pandas as pd\n",
    "from sklearn.model_selection import train_test_split\n",
    "import torch\n",
    "from torch.utils.data import DataLoader\n",
    "from transformers import MarianTokenizer, MarianMTModel\n",
    "from datasets import Dataset\n",
    "import evaluate\n",
    "import matplotlib.pyplot as plt\n",
    "import os\n",
    "import logging\n",
    "import warnings\n",
    "warnings.filterwarnings(\"ignore\")"
   ]
  },
  {
   "cell_type": "code",
   "execution_count": 2,
   "id": "bb57a7fe",
   "metadata": {},
   "outputs": [],
   "source": [
    "# Configuration for each language pair\n",
    "CONFIG = {\n",
    "    \"es\": {\n",
    "        \"dataset\": \"spa.txt\",\n",
    "        \"output_dir\": \"fine_tuned_en_es\",\n",
    "        \"model_name\": \"Helsinki-NLP/opus-mt-en-es\",\n",
    "        \"target_language\": \"Spanish\"\n",
    "    },\n",
    "    \"deu\": {\n",
    "        \"dataset\": \"deu.txt\",\n",
    "        \"output_dir\": \"fine_tuned_en_deu\",\n",
    "        \"model_name\": \"Helsinki-NLP/opus-mt-en-de\",\n",
    "        \"target_language\": \"German\"\n",
    "    },\n",
    "    \"ita\": {\n",
    "        \"dataset\": \"ita.txt\",\n",
    "        \"output_dir\": \"fine_tuned_en_ita\",\n",
    "        \"model_name\": \"Helsinki-NLP/opus-mt-en-it\",\n",
    "        \"target_language\": \"Italian\"\n",
    "    }\n",
    "}"
   ]
  },
  {
   "cell_type": "code",
   "execution_count": 3,
   "id": "9ff8066b",
   "metadata": {},
   "outputs": [],
   "source": [
    "def setup_logging(output_dir):\n",
    "    \"\"\"Set up logging for the given output directory.\"\"\"\n",
    "    log_dir = os.path.join(output_dir, \"logs\")\n",
    "    os.makedirs(log_dir, exist_ok=True)\n",
    "    logging.basicConfig(\n",
    "        level=logging.INFO,\n",
    "        format='%(asctime)s - %(levelname)s - %(message)s',\n",
    "        handlers=[\n",
    "            logging.FileHandler(os.path.join(log_dir, 'training_evaluation.log')),\n",
    "            logging.StreamHandler()\n",
    "        ]\n",
    "    )\n",
    "    return logging.getLogger(__name__)"
   ]
  },
  {
   "cell_type": "code",
   "execution_count": 4,
   "id": "f03328c3",
   "metadata": {},
   "outputs": [],
   "source": [
    "def preprocess_data(examples, tokenizer):\n",
    "    inputs = examples[\"english\"]\n",
    "    targets = examples[\"target\"]\n",
    "    model_inputs = tokenizer(inputs, max_length=128, truncation=True, padding=\"max_length\", return_tensors=\"pt\")\n",
    "    with tokenizer.as_target_tokenizer():\n",
    "        labels = tokenizer(targets, max_length=128, truncation=True, padding=\"max_length\", return_tensors=\"pt\")\n",
    "    model_inputs[\"labels\"] = labels[\"input_ids\"]\n",
    "    return model_inputs"
   ]
  },
  {
   "cell_type": "code",
   "execution_count": 5,
   "id": "8bf6c8b5",
   "metadata": {},
   "outputs": [],
   "source": [
    "def train_model(model, tokenizer, train_df, val_df, output_dir, batch_size=8, num_epochs=5, lr=2e-5):\n",
    "    logger = setup_logging(output_dir)\n",
    "    logger.info(\"Starting model training...\")\n",
    "    device = torch.device(\"cuda\" if torch.cuda.is_available() else \"cpu\")\n",
    "    model.to(device)\n",
    "    \n",
    "    train_dataset = Dataset.from_pandas(train_df)\n",
    "    val_dataset = Dataset.from_pandas(val_df)\n",
    "    \n",
    "    logger.info(\"Tokenizing datasets...\")\n",
    "    tokenized_train = train_dataset.map(\n",
    "        lambda x: preprocess_data(x, tokenizer), \n",
    "        batched=True,\n",
    "        remove_columns=train_dataset.column_names\n",
    "    )\n",
    "    tokenized_val = val_dataset.map(\n",
    "        lambda x: preprocess_data(x, tokenizer), \n",
    "        batched=True,\n",
    "        remove_columns=val_dataset.column_names\n",
    "    )\n",
    "    \n",
    "    tokenized_train.set_format(\"torch\", columns=[\"input_ids\", \"attention_mask\", \"labels\"])\n",
    "    tokenized_val.set_format(\"torch\", columns=[\"input_ids\", \"attention_mask\", \"labels\"])\n",
    "    \n",
    "    train_dataloader = DataLoader(tokenized_train, batch_size=batch_size, shuffle=True)\n",
    "    val_dataloader = DataLoader(tokenized_val, batch_size=batch_size)\n",
    "    \n",
    "    optimizer = torch.optim.AdamW(model.parameters(), lr=lr)\n",
    "    \n",
    "    train_losses = []\n",
    "    val_losses = []\n",
    "    \n",
    "    logger.info(f\"Training for {num_epochs} epochs...\")\n",
    "    for epoch in range(num_epochs):\n",
    "        model.train()\n",
    "        total_loss = 0\n",
    "        for batch_idx, batch in enumerate(train_dataloader):\n",
    "            input_ids = batch[\"input_ids\"].to(device)\n",
    "            attention_mask = batch[\"attention_mask\"].to(device)\n",
    "            labels = batch[\"labels\"].to(device)\n",
    "            \n",
    "            outputs = model(input_ids=input_ids, attention_mask=attention_mask, labels=labels)\n",
    "            loss = outputs.loss\n",
    "            optimizer.zero_grad()\n",
    "            loss.backward()\n",
    "            optimizer.step()\n",
    "            total_loss += loss.item()\n",
    "            if batch_idx % 100 == 0:\n",
    "                logger.info(f\"Epoch {epoch+1}, Batch {batch_idx}, Loss: {loss.item()}\")\n",
    "        \n",
    "        avg_loss = total_loss / len(train_dataloader)\n",
    "        train_losses.append(avg_loss)\n",
    "        logger.info(f\"Epoch {epoch+1} - Average Training Loss: {avg_loss}\")\n",
    "        \n",
    "        model.eval()\n",
    "        val_loss = 0\n",
    "        with torch.no_grad():\n",
    "            for batch in val_dataloader:\n",
    "                input_ids = batch[\"input_ids\"].to(device)\n",
    "                attention_mask = batch[\"attention_mask\"].to(device)\n",
    "                labels = batch[\"labels\"].to(device)\n",
    "                outputs = model(input_ids=input_ids, attention_mask=attention_mask, labels=labels)\n",
    "                val_loss += outputs.loss.item()\n",
    "        avg_val_loss = val_loss / len(val_dataloader)\n",
    "        val_losses.append(avg_val_loss)\n",
    "        logger.info(f\"Epoch {epoch+1} - Average Validation Loss: {avg_val_loss}\")\n",
    "    \n",
    "    # Save model and tokenizer\n",
    "    model_dir = os.path.join(output_dir, \"model\")\n",
    "    os.makedirs(model_dir, exist_ok=True)\n",
    "    model.save_pretrained(model_dir)\n",
    "    tokenizer.save_pretrained(model_dir)\n",
    "    logger.info(f\"Model and tokenizer saved to {model_dir}\")\n",
    "    \n",
    "    # Plot training history\n",
    "    plt.figure(figsize=(12, 4))\n",
    "    epochs_range = range(1, num_epochs + 1)\n",
    "    if num_epochs > 1:\n",
    "        plt.plot(epochs_range, train_losses, label='Training Loss')\n",
    "        plt.plot(epochs_range, val_losses, label='Validation Loss')\n",
    "    else:\n",
    "        plt.scatter(epochs_range, train_losses, label='Training Loss', color='blue')\n",
    "        plt.scatter(epochs_range, val_losses, label='Validation Loss', color='orange')\n",
    "    plt.title('Model Loss')\n",
    "    plt.xlabel('Epoch')\n",
    "    plt.ylabel('Loss')\n",
    "    plt.legend()\n",
    "    plt.tight_layout()\n",
    "    plots_dir = os.path.join(output_dir, \"plots\")\n",
    "    os.makedirs(plots_dir, exist_ok=True)\n",
    "    plt.savefig(os.path.join(plots_dir, 'training_history.png'))\n",
    "    plt.show()  # Display on screen\n",
    "    logger.info(\"Training history plot saved and displayed.\")\n",
    "    \n",
    "    return model, tokenizer"
   ]
  },
  {
   "cell_type": "code",
   "execution_count": 6,
   "id": "51faa24d",
   "metadata": {},
   "outputs": [],
   "source": [
    "def compute_metrics(model_path, test_df, lang_code, device=torch.device(\"cuda\" if torch.cuda.is_available() else \"cpu\")):\n",
    "    \"\"\"Compute BLEU, METEOR, and BERTScore for a saved model.\"\"\"\n",
    "    logger = setup_logging(os.path.dirname(model_path))\n",
    "    logger.info(f\"Computing metrics for {lang_code}...\")\n",
    "\n",
    "    tokenizer = MarianTokenizer.from_pretrained(model_path)\n",
    "    model = MarianMTModel.from_pretrained(model_path)\n",
    "    model.to(device)\n",
    "    model.eval()\n",
    "\n",
    "    bleu = evaluate.load(\"bleu\")\n",
    "    meteor = evaluate.load(\"meteor\")\n",
    "    from bert_score import score as bert_score\n",
    "\n",
    "    predictions = []\n",
    "    references = []\n",
    "    with torch.no_grad():\n",
    "        for i in range(0, len(test_df), 8):\n",
    "            batch = test_df[i:i+8]\n",
    "            inputs = tokenizer(list(batch[\"english\"]), return_tensors=\"pt\", padding=True, truncation=True).to(device)\n",
    "            outputs = model.generate(**inputs)\n",
    "            preds = tokenizer.batch_decode(outputs, skip_special_tokens=True)\n",
    "            refs = list(batch[\"target\"])\n",
    "            predictions.extend(preds)\n",
    "            references.extend([ref] for ref in refs)\n",
    "\n",
    "    bleu_result = bleu.compute(predictions=predictions, references=references)[\"bleu\"]\n",
    "    meteor_result = meteor.compute(predictions=predictions, references=[ref[0] for ref in references])[\"meteor\"]\n",
    "    P, R, F1 = bert_score(predictions, [ref[0] for ref in references], lang=lang_code, verbose=False)\n",
    "    bertscore_result = F1.mean().item()\n",
    "\n",
    "    logger.info(f\"BLEU Score: {bleu_result}\")\n",
    "    logger.info(f\"METEOR Score: {meteor_result}\")\n",
    "    logger.info(f\"BERTScore F1: {bertscore_result}\")\n",
    "\n",
    "    return {\"bleu\": bleu_result, \"meteor\": meteor_result, \"bertscore\": bertscore_result}"
   ]
  },
  {
   "cell_type": "code",
   "execution_count": 7,
   "id": "bcdce601",
   "metadata": {},
   "outputs": [],
   "source": [
    "def train_and_evaluate(lang_code):\n",
    "    \"\"\"Train and evaluate a model for a specific language.\"\"\"\n",
    "    config = CONFIG[lang_code]\n",
    "    dataset_path = config[\"dataset\"]\n",
    "    output_dir = config[\"output_dir\"]\n",
    "    model_name = config[\"model_name\"]\n",
    "    target_language = config[\"target_language\"]  # Added target language name\n",
    "    \n",
    "    logger = setup_logging(output_dir)\n",
    "    logger.info(f\"Processing language: {lang_code} (English to {target_language})\")\n",
    "    \n",
    "    # Load and preprocess data\n",
    "    logger.info(\"Loading and preprocessing data...\")\n",
    "    df = pd.read_csv(dataset_path, sep='\\t', header=None)\n",
    "    df = df.iloc[:, [0, 1]]\n",
    "    df.columns = ['english', 'target']\n",
    "    df = df.dropna().drop_duplicates()\n",
    "    df['english'] = df['english'].str.lower().str.strip().str.replace(r'[^\\w\\s.]', '', regex=True)\n",
    "    df['target'] = df['target'].str.lower().str.strip().str.replace(r'[^\\w\\s.]', '', regex=True)\n",
    "    train_df, temp_df = train_test_split(df, test_size=0.2, random_state=42)\n",
    "    val_df, test_df = train_test_split(temp_df, test_size=0.5, random_state=42)\n",
    "    train_subset = train_df[:10000]\n",
    "    \n",
    "    logger.info(f\"Data shape: {df.shape}\")\n",
    "    \n",
    "    # Plot sentence length distribution with target language specified\n",
    "    df['english_length'] = df['english'].str.split().str.len()\n",
    "    df['target_length'] = df['target'].str.split().str.len()\n",
    "    plt.figure(figsize=(10, 5))\n",
    "    plt.hist(df['english_length'], bins=50, alpha=0.5, label='English')\n",
    "    plt.hist(df['target_length'], bins=50, alpha=0.5, label=target_language)  # Use target language name\n",
    "    plt.title(f'Sentence Length Distribution (English vs {target_language})')\n",
    "    plt.xlabel('Number of Words')\n",
    "    plt.ylabel('Frequency')\n",
    "    plt.legend()\n",
    "    plots_dir = os.path.join(output_dir, \"plots\")\n",
    "    os.makedirs(plots_dir, exist_ok=True)\n",
    "    plt.savefig(os.path.join(plots_dir, 'sentence_length_dist.png'))\n",
    "    plt.show()  # Display on screen\n",
    "    logger.info(f\"Sentence length distribution plot for English vs {target_language} saved and displayed.\")\n",
    "    \n",
    "    # Train model\n",
    "    tokenizer = MarianTokenizer.from_pretrained(model_name)\n",
    "    model = MarianMTModel.from_pretrained(model_name)\n",
    "    model, tokenizer = train_model(model, tokenizer, train_subset, val_df, output_dir)\n",
    "    \n",
    "    # Evaluate model\n",
    "    model_path = os.path.join(output_dir, \"model\")\n",
    "    metrics = compute_metrics(model_path, test_df, lang_code)\n",
    "    \n",
    "    # Save metrics to a file\n",
    "    with open(os.path.join(output_dir, \"metrics.txt\"), \"w\") as f:\n",
    "        f.write(f\"BLEU Score: {metrics['bleu']}\\n\")\n",
    "        f.write(f\"METEOR Score: {metrics['meteor']}\\n\")\n",
    "        f.write(f\"BERTScore F1: {metrics['bertscore']}\\n\")\n",
    "    logger.info(f\"Metrics saved to {os.path.join(output_dir, 'metrics.txt')}\")\n",
    "    \n",
    "    return metrics"
   ]
  },
  {
   "cell_type": "code",
   "execution_count": 8,
   "id": "297ec940",
   "metadata": {},
   "outputs": [],
   "source": [
    "def main():\n",
    "    all_metrics = {}\n",
    "    \n",
    "    # Train and evaluate for each language\n",
    "    for lang_code in CONFIG.keys():\n",
    "        metrics = train_and_evaluate(lang_code)\n",
    "        all_metrics[lang_code] = metrics\n",
    "    \n",
    "    # Visualize metrics across languages\n",
    "    general_plots_dir = \"general_plots\"\n",
    "    os.makedirs(general_plots_dir, exist_ok=True)\n",
    "    \n",
    "    for metric_name in [\"bleu\", \"meteor\", \"bertscore\"]:\n",
    "        plt.figure(figsize=(8, 4))\n",
    "        plt.bar(all_metrics.keys(), [all_metrics[lang][metric_name] for lang in all_metrics])\n",
    "        plt.title(f'{metric_name.upper()} Scores by Language')\n",
    "        plt.ylabel(f'{metric_name.upper()} Score')\n",
    "        plt.savefig(os.path.join(general_plots_dir, f'{metric_name}_scores.png'))\n",
    "        plt.show()  # Display on screen\n",
    "        logging.getLogger(__name__).info(f\"{metric_name.upper()} scores plot saved and displayed.\")"
   ]
  },
  {
   "cell_type": "code",
   "execution_count": null,
   "id": "d114ae55",
   "metadata": {
    "scrolled": false
   },
   "outputs": [
    {
     "name": "stderr",
     "output_type": "stream",
     "text": [
      "2025-04-05 11:27:00,792 - INFO - Processing language: es (English to Spanish)\n",
      "2025-04-05 11:27:00,792 - INFO - Loading and preprocessing data...\n",
      "2025-04-05 11:27:01,437 - INFO - Data shape: (118964, 2)\n"
     ]
    },
    {
     "data": {
      "image/png": "[encoded data removed]",
      "text/plain": [
       "<Figure size 720x360 with 1 Axes>"
      ]
     },
     "metadata": {
      "needs_background": "light"
     },
     "output_type": "display_data"
    },
    {
     "name": "stderr",
     "output_type": "stream",
     "text": [
      "2025-04-05 11:27:02,433 - INFO - Sentence length distribution plot for English vs Spanish saved and displayed.\n",
      "2025-04-05 11:27:04,680 - INFO - Starting model training...\n",
      "2025-04-05 11:27:04,705 - INFO - Tokenizing datasets...\n"
     ]
    },
    {
     "data": {
      "application/vnd.jupyter.widget-view+json": {
       "model_id": "bc1f189bdb904737875c52d2aff5bc10",
       "version_major": 2,
       "version_minor": 0
      },
      "text/plain": [
       "Map:   0%|          | 0/10000 [00:00<?, ? examples/s]"
      ]
     },
     "metadata": {},
     "output_type": "display_data"
    },
    {
     "data": {
      "application/vnd.jupyter.widget-view+json": {
       "model_id": "14b64bfc9b874fe1ba4ff30f662092b7",
       "version_major": 2,
       "version_minor": 0
      },
      "text/plain": [
       "Map:   0%|          | 0/11896 [00:00<?, ? examples/s]"
      ]
     },
     "metadata": {},
     "output_type": "display_data"
    },
    {
     "name": "stderr",
     "output_type": "stream",
     "text": [
      "2025-04-05 11:27:09,347 - INFO - Training for 5 epochs...\n",
      "2025-04-05 11:27:10,701 - INFO - Epoch 1, Batch 0, Loss: 4.616606712341309\n",
      "2025-04-05 11:29:20,039 - INFO - Epoch 1, Batch 100, Loss: 0.04619515687227249\n",
      "2025-04-05 11:31:28,621 - INFO - Epoch 1, Batch 200, Loss: 0.048686329275369644\n",
      "2025-04-05 11:33:37,114 - INFO - Epoch 1, Batch 300, Loss: 0.02456735074520111\n",
      "2025-04-05 11:35:45,434 - INFO - Epoch 1, Batch 400, Loss: 0.04319922253489494\n",
      "2025-04-05 11:37:53,897 - INFO - Epoch 1, Batch 500, Loss: 0.03295324370265007\n",
      "2025-04-05 11:40:02,401 - INFO - Epoch 1, Batch 600, Loss: 0.06815744936466217\n",
      "2025-04-05 11:42:10,813 - INFO - Epoch 1, Batch 700, Loss: 0.01470460370182991\n",
      "2025-04-05 11:44:19,253 - INFO - Epoch 1, Batch 800, Loss: 0.04024409502744675\n",
      "2025-04-05 11:46:27,636 - INFO - Epoch 1, Batch 900, Loss: 0.03542567789554596\n",
      "2025-04-05 11:48:35,933 - INFO - Epoch 1, Batch 1000, Loss: 0.036357782781124115\n",
      "2025-04-05 11:50:44,191 - INFO - Epoch 1, Batch 1100, Loss: 0.041073475033044815\n",
      "2025-04-05 11:52:52,475 - INFO - Epoch 1, Batch 1200, Loss: 0.024651728570461273\n",
      "2025-04-05 11:53:55,412 - INFO - Epoch 1 - Average Training Loss: 0.059498041081428525\n",
      "2025-04-05 12:03:55,260 - INFO - Epoch 1 - Average Validation Loss: 0.038596160744304976\n",
      "2025-04-05 12:03:56,576 - INFO - Epoch 2, Batch 0, Loss: 0.03338903933763504\n",
      "2025-04-05 12:06:05,006 - INFO - Epoch 2, Batch 100, Loss: 0.03761115297675133\n",
      "2025-04-05 12:08:13,386 - INFO - Epoch 2, Batch 200, Loss: 0.02575667016208172\n",
      "2025-04-05 12:10:21,924 - INFO - Epoch 2, Batch 300, Loss: 0.027871256694197655\n",
      "2025-04-05 12:12:30,363 - INFO - Epoch 2, Batch 400, Loss: 0.024643758311867714\n",
      "2025-04-05 12:14:38,828 - INFO - Epoch 2, Batch 500, Loss: 0.03202473372220993\n",
      "2025-04-05 12:16:47,366 - INFO - Epoch 2, Batch 600, Loss: 0.02790077216923237\n",
      "2025-04-05 12:18:55,794 - INFO - Epoch 2, Batch 700, Loss: 0.021301308646798134\n",
      "2025-04-05 12:21:04,171 - INFO - Epoch 2, Batch 800, Loss: 0.015994520857930183\n",
      "2025-04-05 12:23:12,614 - INFO - Epoch 2, Batch 900, Loss: 0.025629041716456413\n",
      "2025-04-05 12:25:20,928 - INFO - Epoch 2, Batch 1000, Loss: 0.020911889150738716\n",
      "2025-04-05 12:27:29,244 - INFO - Epoch 2, Batch 1100, Loss: 0.03230460733175278\n",
      "2025-04-05 12:29:37,585 - INFO - Epoch 2, Batch 1200, Loss: 0.035235241055488586\n",
      "2025-04-05 12:30:40,393 - INFO - Epoch 2 - Average Training Loss: 0.032408561558276414\n",
      "2025-04-05 12:40:39,670 - INFO - Epoch 2 - Average Validation Loss: 0.03902760693188394\n",
      "2025-04-05 12:40:40,985 - INFO - Epoch 3, Batch 0, Loss: 0.020381338894367218\n",
      "2025-04-05 12:42:49,480 - INFO - Epoch 3, Batch 100, Loss: 0.04507618024945259\n",
      "2025-04-05 12:44:57,965 - INFO - Epoch 3, Batch 200, Loss: 0.017192786559462547\n",
      "2025-04-05 12:47:06,462 - INFO - Epoch 3, Batch 300, Loss: 0.010081111453473568\n",
      "2025-04-05 12:49:14,959 - INFO - Epoch 3, Batch 400, Loss: 0.011451116763055325\n",
      "2025-04-05 12:51:23,359 - INFO - Epoch 3, Batch 500, Loss: 0.03131762892007828\n",
      "2025-04-05 12:53:31,564 - INFO - Epoch 3, Batch 600, Loss: 0.025374170392751694\n",
      "2025-04-05 12:55:39,765 - INFO - Epoch 3, Batch 700, Loss: 0.016071368008852005\n",
      "2025-04-05 12:57:47,951 - INFO - Epoch 3, Batch 800, Loss: 0.021583691239356995\n",
      "2025-04-05 12:59:56,102 - INFO - Epoch 3, Batch 900, Loss: 0.02014845609664917\n",
      "2025-04-05 13:02:04,060 - INFO - Epoch 3, Batch 1000, Loss: 0.019390499219298363\n",
      "2025-04-05 13:04:11,996 - INFO - Epoch 3, Batch 1100, Loss: 0.036217350512742996\n",
      "2025-04-05 13:06:19,948 - INFO - Epoch 3, Batch 1200, Loss: 0.014719696715474129\n",
      "2025-04-05 13:07:22,641 - INFO - Epoch 3 - Average Training Loss: 0.025309086256287992\n",
      "2025-04-05 13:17:20,654 - INFO - Epoch 3 - Average Validation Loss: 0.041183475255916084\n",
      "2025-04-05 13:17:21,938 - INFO - Epoch 4, Batch 0, Loss: 0.013815665617585182\n",
      "2025-04-05 13:19:30,038 - INFO - Epoch 4, Batch 100, Loss: 0.02040720172226429\n",
      "2025-04-05 13:21:38,126 - INFO - Epoch 4, Batch 200, Loss: 0.0237953532487154\n",
      "2025-04-05 13:23:46,233 - INFO - Epoch 4, Batch 300, Loss: 0.020291151478886604\n",
      "2025-04-05 13:25:54,321 - INFO - Epoch 4, Batch 400, Loss: 0.023114483803510666\n",
      "2025-04-05 13:28:02,363 - INFO - Epoch 4, Batch 500, Loss: 0.013379938900470734\n",
      "2025-04-05 13:30:10,360 - INFO - Epoch 4, Batch 600, Loss: 0.019562676548957825\n",
      "2025-04-05 13:32:18,355 - INFO - Epoch 4, Batch 700, Loss: 0.023331841453909874\n",
      "2025-04-05 13:34:26,250 - INFO - Epoch 4, Batch 800, Loss: 0.014233478344976902\n",
      "2025-04-05 13:36:34,100 - INFO - Epoch 4, Batch 900, Loss: 0.010596034117043018\n",
      "2025-04-05 13:38:41,918 - INFO - Epoch 4, Batch 1000, Loss: 0.015924198552966118\n",
      "2025-04-05 13:40:50,015 - INFO - Epoch 4, Batch 1100, Loss: 0.02282273955643177\n",
      "2025-04-05 13:42:57,899 - INFO - Epoch 4, Batch 1200, Loss: 0.03628833219408989\n",
      "2025-04-05 13:44:00,620 - INFO - Epoch 4 - Average Training Loss: 0.019783201072737573\n",
      "2025-04-05 13:53:56,756 - INFO - Epoch 4 - Average Validation Loss: 0.043319771690112516\n",
      "2025-04-05 13:53:58,040 - INFO - Epoch 5, Batch 0, Loss: 0.02160611003637314\n",
      "2025-04-05 13:56:05,999 - INFO - Epoch 5, Batch 100, Loss: 0.0067856148816645145\n",
      "2025-04-05 13:58:14,058 - INFO - Epoch 5, Batch 200, Loss: 0.015594398602843285\n",
      "2025-04-05 14:00:22,058 - INFO - Epoch 5, Batch 300, Loss: 0.011776873841881752\n",
      "2025-04-05 14:02:30,055 - INFO - Epoch 5, Batch 400, Loss: 0.012100809253752232\n",
      "2025-04-05 14:04:37,999 - INFO - Epoch 5, Batch 500, Loss: 0.023227671161293983\n",
      "2025-04-05 14:06:45,967 - INFO - Epoch 5, Batch 600, Loss: 0.011836156249046326\n",
      "2025-04-05 14:08:53,794 - INFO - Epoch 5, Batch 700, Loss: 0.02007441595196724\n",
      "2025-04-05 14:11:01,636 - INFO - Epoch 5, Batch 800, Loss: 0.01070783007889986\n",
      "2025-04-05 14:13:09,615 - INFO - Epoch 5, Batch 900, Loss: 0.012841010466217995\n",
      "2025-04-05 14:15:17,586 - INFO - Epoch 5, Batch 1000, Loss: 0.011073204688727856\n",
      "2025-04-05 14:17:25,570 - INFO - Epoch 5, Batch 1100, Loss: 0.022188564762473106\n",
      "2025-04-05 14:19:33,567 - INFO - Epoch 5, Batch 1200, Loss: 0.01609148271381855\n",
      "2025-04-05 14:20:36,257 - INFO - Epoch 5 - Average Training Loss: 0.015154580204375089\n",
      "2025-04-05 14:30:35,089 - INFO - Epoch 5 - Average Validation Loss: 0.04653154392228803\n",
      "2025-04-05 14:30:35,580 - INFO - Model and tokenizer saved to fine_tuned_en_es/model\n"
     ]
    },
    {
     "data": {
      "image/png": "[encoded data removed]",
      "text/plain": [
       "<Figure size 864x288 with 1 Axes>"
      ]
     },
     "metadata": {
      "needs_background": "light"
     },
     "output_type": "display_data"
    },
    {
     "name": "stderr",
     "output_type": "stream",
     "text": [
      "2025-04-05 14:30:35,786 - INFO - Training history plot saved and displayed.\n",
      "2025-04-05 14:30:35,792 - INFO - Computing metrics for es...\n",
      "[nltk_data] Downloading package wordnet to\n",
      "[nltk_data]     /storage/home/haa5622/nltk_data...\n",
      "[nltk_data]   Package wordnet is already up-to-date!\n",
      "[nltk_data] Downloading package punkt_tab to\n",
      "[nltk_data]     /storage/home/haa5622/nltk_data...\n",
      "[nltk_data]   Package punkt_tab is already up-to-date!\n",
      "[nltk_data] Downloading package omw-1.4 to\n",
      "[nltk_data]     /storage/home/haa5622/nltk_data...\n",
      "[nltk_data]   Package omw-1.4 is already up-to-date!\n",
      "Some weights of the model checkpoint at bert-base-multilingual-cased were not used when initializing BertModel: ['cls.predictions.transform.LayerNorm.weight', 'cls.predictions.transform.LayerNorm.bias', 'cls.seq_relationship.weight', 'cls.predictions.transform.dense.weight', 'cls.predictions.transform.dense.bias', 'cls.seq_relationship.bias', 'cls.predictions.bias']\n",
      "- This IS expected if you are initializing BertModel from the checkpoint of a model trained on another task or with another architecture (e.g. initializing a BertForSequenceClassification model from a BertForPreTraining model).\n",
      "- This IS NOT expected if you are initializing BertModel from the checkpoint of a model that you expect to be exactly identical (initializing a BertForSequenceClassification model from a BertForSequenceClassification model).\n",
      "2025-04-05 14:44:41,499 - INFO - BLEU Score: 0.5522535294485162\n",
      "2025-04-05 14:44:41,500 - INFO - METEOR Score: 0.7451857508987694\n",
      "2025-04-05 14:44:41,501 - INFO - BERTScore F1: 0.9274712204933167\n",
      "2025-04-05 14:44:41,511 - INFO - Metrics saved to fine_tuned_en_es/metrics.txt\n",
      "2025-04-05 14:44:41,522 - INFO - Processing language: deu (English to German)\n",
      "2025-04-05 14:44:41,522 - INFO - Loading and preprocessing data...\n",
      "2025-04-05 14:44:43,011 - INFO - Data shape: (221533, 2)\n"
     ]
    },
    {
     "data": {
      "image/png": "[encoded data removed]",
      "text/plain": [
       "<Figure size 720x360 with 1 Axes>"
      ]
     },
     "metadata": {
      "needs_background": "light"
     },
     "output_type": "display_data"
    },
    {
     "name": "stderr",
     "output_type": "stream",
     "text": [
      "2025-04-05 14:44:44,825 - INFO - Sentence length distribution plot for English vs German saved and displayed.\n",
      "2025-04-05 14:44:47,236 - INFO - Starting model training...\n",
      "2025-04-05 14:44:47,267 - INFO - Tokenizing datasets...\n"
     ]
    },
    {
     "data": {
      "application/vnd.jupyter.widget-view+json": {
       "model_id": "bbf793980920442a8645b7df9366af3e",
       "version_major": 2,
       "version_minor": 0
      },
      "text/plain": [
       "Map:   0%|          | 0/10000 [00:00<?, ? examples/s]"
      ]
     },
     "metadata": {},
     "output_type": "display_data"
    },
    {
     "data": {
      "application/vnd.jupyter.widget-view+json": {
       "model_id": "ffa572f96db247bf8bd9c83212c68318",
       "version_major": 2,
       "version_minor": 0
      },
      "text/plain": [
       "Map:   0%|          | 0/22153 [00:00<?, ? examples/s]"
      ]
     },
     "metadata": {},
     "output_type": "display_data"
    },
    {
     "name": "stderr",
     "output_type": "stream",
     "text": [
      "2025-04-05 14:44:52,991 - INFO - Training for 5 epochs...\n",
      "2025-04-05 14:44:54,193 - INFO - Epoch 1, Batch 0, Loss: 7.824183940887451\n",
      "2025-04-05 14:46:56,025 - INFO - Epoch 1, Batch 100, Loss: 0.1212577223777771\n",
      "2025-04-05 14:48:58,164 - INFO - Epoch 1, Batch 200, Loss: 0.06977377831935883\n",
      "2025-04-05 14:51:00,440 - INFO - Epoch 1, Batch 300, Loss: 0.10647083818912506\n",
      "2025-04-05 14:53:02,722 - INFO - Epoch 1, Batch 400, Loss: 0.09402884542942047\n",
      "2025-04-05 14:55:05,017 - INFO - Epoch 1, Batch 500, Loss: 0.06001149117946625\n",
      "2025-04-05 14:57:07,337 - INFO - Epoch 1, Batch 600, Loss: 0.074359230697155\n",
      "2025-04-05 14:59:09,729 - INFO - Epoch 1, Batch 700, Loss: 0.04246135056018829\n",
      "2025-04-05 15:01:11,883 - INFO - Epoch 1, Batch 800, Loss: 0.030468903481960297\n",
      "2025-04-05 15:03:14,071 - INFO - Epoch 1, Batch 900, Loss: 0.050476059317588806\n",
      "2025-04-05 15:05:16,194 - INFO - Epoch 1, Batch 1000, Loss: 0.09248743206262589\n",
      "2025-04-05 15:07:18,306 - INFO - Epoch 1, Batch 1100, Loss: 0.052049387246370316\n",
      "2025-04-05 15:09:20,612 - INFO - Epoch 1, Batch 1200, Loss: 0.06865720450878143\n",
      "2025-04-05 15:10:20,498 - INFO - Epoch 1 - Average Training Loss: 0.1076785773448646\n",
      "2025-04-05 15:28:01,409 - INFO - Epoch 1 - Average Validation Loss: 0.06681157083902844\n",
      "2025-04-05 15:28:02,649 - INFO - Epoch 2, Batch 0, Loss: 0.06646718829870224\n",
      "2025-04-05 15:30:05,036 - INFO - Epoch 2, Batch 100, Loss: 0.05651902034878731\n",
      "2025-04-05 15:32:07,407 - INFO - Epoch 2, Batch 200, Loss: 0.05507275462150574\n",
      "2025-04-05 15:34:09,875 - INFO - Epoch 2, Batch 300, Loss: 0.014692177064716816\n",
      "2025-04-05 15:36:12,323 - INFO - Epoch 2, Batch 400, Loss: 0.057428520172834396\n",
      "2025-04-05 15:38:14,735 - INFO - Epoch 2, Batch 500, Loss: 0.049222271889448166\n",
      "2025-04-05 15:40:17,181 - INFO - Epoch 2, Batch 600, Loss: 0.07278192043304443\n",
      "2025-04-05 15:42:19,589 - INFO - Epoch 2, Batch 700, Loss: 0.03877216577529907\n",
      "2025-04-05 15:44:22,022 - INFO - Epoch 2, Batch 800, Loss: 0.038653191179037094\n",
      "2025-04-05 15:46:24,473 - INFO - Epoch 2, Batch 900, Loss: 0.0511932373046875\n",
      "2025-04-05 15:48:26,815 - INFO - Epoch 2, Batch 1000, Loss: 0.046885356307029724\n",
      "2025-04-05 15:50:29,043 - INFO - Epoch 2, Batch 1100, Loss: 0.046573616564273834\n",
      "2025-04-05 15:52:31,206 - INFO - Epoch 2, Batch 1200, Loss: 0.052888017147779465\n",
      "2025-04-05 15:53:31,035 - INFO - Epoch 2 - Average Training Loss: 0.05347126195803285\n",
      "2025-04-05 16:11:10,030 - INFO - Epoch 2 - Average Validation Loss: 0.056774591229223924\n",
      "2025-04-05 16:11:11,272 - INFO - Epoch 3, Batch 0, Loss: 0.03148091956973076\n",
      "2025-04-05 16:13:13,365 - INFO - Epoch 3, Batch 100, Loss: 0.03390759602189064\n",
      "2025-04-05 16:15:15,504 - INFO - Epoch 3, Batch 200, Loss: 0.0189268346875906\n",
      "2025-04-05 16:17:17,597 - INFO - Epoch 3, Batch 300, Loss: 0.0420343279838562\n",
      "2025-04-05 16:19:19,682 - INFO - Epoch 3, Batch 400, Loss: 0.0392770878970623\n",
      "2025-04-05 16:21:21,787 - INFO - Epoch 3, Batch 500, Loss: 0.07014533877372742\n",
      "2025-04-05 16:23:23,824 - INFO - Epoch 3, Batch 600, Loss: 0.02921973541378975\n",
      "2025-04-05 16:25:25,888 - INFO - Epoch 3, Batch 700, Loss: 0.0466388575732708\n",
      "2025-04-05 16:27:27,918 - INFO - Epoch 3, Batch 800, Loss: 0.010738370008766651\n",
      "2025-04-05 16:29:29,946 - INFO - Epoch 3, Batch 900, Loss: 0.022603269666433334\n",
      "2025-04-05 16:31:31,951 - INFO - Epoch 3, Batch 1000, Loss: 0.028710773214697838\n",
      "2025-04-05 16:33:34,056 - INFO - Epoch 3, Batch 1100, Loss: 0.03950371593236923\n",
      "2025-04-05 16:35:36,089 - INFO - Epoch 3, Batch 1200, Loss: 0.08413863927125931\n",
      "2025-04-05 16:36:35,849 - INFO - Epoch 3 - Average Training Loss: 0.04223783840835094\n",
      "2025-04-05 16:54:13,743 - INFO - Epoch 3 - Average Validation Loss: 0.05985306157740606\n",
      "2025-04-05 16:54:14,963 - INFO - Epoch 4, Batch 0, Loss: 0.028269121423363686\n",
      "2025-04-05 16:56:16,990 - INFO - Epoch 4, Batch 100, Loss: 0.02937990613281727\n",
      "2025-04-05 16:58:19,036 - INFO - Epoch 4, Batch 200, Loss: 0.029585961252450943\n",
      "2025-04-05 17:00:21,126 - INFO - Epoch 4, Batch 300, Loss: 0.02459575980901718\n",
      "2025-04-05 17:02:23,234 - INFO - Epoch 4, Batch 400, Loss: 0.034308940172195435\n",
      "2025-04-05 17:04:25,313 - INFO - Epoch 4, Batch 500, Loss: 0.061529263854026794\n",
      "2025-04-05 17:06:27,391 - INFO - Epoch 4, Batch 600, Loss: 0.02889263816177845\n",
      "2025-04-05 17:08:29,436 - INFO - Epoch 4, Batch 700, Loss: 0.023250434547662735\n",
      "2025-04-05 17:10:31,570 - INFO - Epoch 4, Batch 800, Loss: 0.022552218288183212\n",
      "2025-04-05 17:12:33,620 - INFO - Epoch 4, Batch 900, Loss: 0.03361683711409569\n",
      "2025-04-05 17:14:35,647 - INFO - Epoch 4, Batch 1000, Loss: 0.023112040013074875\n",
      "2025-04-05 17:16:37,678 - INFO - Epoch 4, Batch 1100, Loss: 0.02883409895002842\n",
      "2025-04-05 17:18:39,716 - INFO - Epoch 4, Batch 1200, Loss: 0.030655495822429657\n",
      "2025-04-05 17:19:39,571 - INFO - Epoch 4 - Average Training Loss: 0.03365797324702144\n",
      "2025-04-05 17:37:19,319 - INFO - Epoch 4 - Average Validation Loss: 0.05900968806874864\n",
      "2025-04-05 17:37:20,541 - INFO - Epoch 5, Batch 0, Loss: 0.023537160828709602\n",
      "2025-04-05 17:39:22,448 - INFO - Epoch 5, Batch 100, Loss: 0.029280075803399086\n",
      "2025-04-05 17:41:24,379 - INFO - Epoch 5, Batch 200, Loss: 0.024144330993294716\n",
      "2025-04-05 17:43:26,465 - INFO - Epoch 5, Batch 300, Loss: 0.01380536425858736\n",
      "2025-04-05 17:45:28,562 - INFO - Epoch 5, Batch 400, Loss: 0.017835086211562157\n",
      "2025-04-05 17:47:30,652 - INFO - Epoch 5, Batch 500, Loss: 0.034246526658535004\n",
      "2025-04-05 17:49:32,775 - INFO - Epoch 5, Batch 600, Loss: 0.018427768722176552\n",
      "2025-04-05 17:51:34,869 - INFO - Epoch 5, Batch 700, Loss: 0.014253780245780945\n",
      "2025-04-05 17:53:36,840 - INFO - Epoch 5, Batch 800, Loss: 0.028573915362358093\n",
      "2025-04-05 17:55:38,838 - INFO - Epoch 5, Batch 900, Loss: 0.012977059930562973\n",
      "2025-04-05 17:57:40,864 - INFO - Epoch 5, Batch 1000, Loss: 0.025383422151207924\n",
      "2025-04-05 17:59:42,836 - INFO - Epoch 5, Batch 1100, Loss: 0.021208006888628006\n",
      "2025-04-05 18:01:44,836 - INFO - Epoch 5, Batch 1200, Loss: 0.02505689486861229\n",
      "2025-04-05 18:02:44,596 - INFO - Epoch 5 - Average Training Loss: 0.026515708800405265\n",
      "2025-04-05 18:20:23,518 - INFO - Epoch 5 - Average Validation Loss: 0.060489695115296074\n",
      "2025-04-05 18:20:23,962 - INFO - Model and tokenizer saved to fine_tuned_en_deu/model\n"
     ]
    },
    {
     "data": {
      "image/png": "[encoded data removed]",
      "text/plain": [
       "<Figure size 864x288 with 1 Axes>"
      ]
     },
     "metadata": {
      "needs_background": "light"
     },
     "output_type": "display_data"
    },
    {
     "name": "stderr",
     "output_type": "stream",
     "text": [
      "2025-04-05 18:20:24,181 - INFO - Training history plot saved and displayed.\n",
      "2025-04-05 18:20:24,254 - INFO - Computing metrics for deu...\n",
      "[nltk_data] Downloading package wordnet to\n",
      "[nltk_data]     /storage/home/haa5622/nltk_data...\n",
      "[nltk_data]   Package wordnet is already up-to-date!\n",
      "[nltk_data] Downloading package punkt_tab to\n",
      "[nltk_data]     /storage/home/haa5622/nltk_data...\n",
      "[nltk_data]   Package punkt_tab is already up-to-date!\n",
      "[nltk_data] Downloading package omw-1.4 to\n",
      "[nltk_data]     /storage/home/haa5622/nltk_data...\n",
      "[nltk_data]   Package omw-1.4 is already up-to-date!\n",
      "Some weights of the model checkpoint at bert-base-multilingual-cased were not used when initializing BertModel: ['cls.predictions.transform.LayerNorm.weight', 'cls.predictions.transform.LayerNorm.bias', 'cls.seq_relationship.weight', 'cls.predictions.transform.dense.weight', 'cls.predictions.transform.dense.bias', 'cls.seq_relationship.bias', 'cls.predictions.bias']\n",
      "- This IS expected if you are initializing BertModel from the checkpoint of a model trained on another task or with another architecture (e.g. initializing a BertForSequenceClassification model from a BertForPreTraining model).\n",
      "- This IS NOT expected if you are initializing BertModel from the checkpoint of a model that you expect to be exactly identical (initializing a BertForSequenceClassification model from a BertForSequenceClassification model).\n",
      "2025-04-05 18:47:41,668 - INFO - BLEU Score: 0.4513227165163718\n",
      "2025-04-05 18:47:41,669 - INFO - METEOR Score: 0.6856158910020735\n",
      "2025-04-05 18:47:41,669 - INFO - BERTScore F1: 0.9041290283203125\n",
      "2025-04-05 18:47:41,687 - INFO - Metrics saved to fine_tuned_en_deu/metrics.txt\n",
      "2025-04-05 18:47:41,707 - INFO - Processing language: ita (English to Italian)\n",
      "2025-04-05 18:47:41,707 - INFO - Loading and preprocessing data...\n",
      "2025-04-05 18:47:43,907 - INFO - Data shape: (364199, 2)\n"
     ]
    },
    {
     "data": {
      "image/png": "[encoded data removed]",
      "text/plain": [
       "<Figure size 720x360 with 1 Axes>"
      ]
     },
     "metadata": {
      "needs_background": "light"
     },
     "output_type": "display_data"
    },
    {
     "name": "stderr",
     "output_type": "stream",
     "text": [
      "2025-04-05 18:47:46,511 - INFO - Sentence length distribution plot for English vs Italian saved and displayed.\n",
      "2025-04-05 18:47:49,934 - INFO - Starting model training...\n",
      "2025-04-05 18:47:49,971 - INFO - Tokenizing datasets...\n"
     ]
    },
    {
     "data": {
      "application/vnd.jupyter.widget-view+json": {
       "model_id": "1fa3710a3e7a45d29ff45de97e45e702",
       "version_major": 2,
       "version_minor": 0
      },
      "text/plain": [
       "Map:   0%|          | 0/10000 [00:00<?, ? examples/s]"
      ]
     },
     "metadata": {},
     "output_type": "display_data"
    },
    {
     "data": {
      "application/vnd.jupyter.widget-view+json": {
       "model_id": "456142c401034024b2be6f59172c4d33",
       "version_major": 2,
       "version_minor": 0
      },
      "text/plain": [
       "Map:   0%|          | 0/36420 [00:00<?, ? examples/s]"
      ]
     },
     "metadata": {},
     "output_type": "display_data"
    },
    {
     "name": "stderr",
     "output_type": "stream",
     "text": [
      "2025-04-05 18:47:57,700 - INFO - Training for 5 epochs...\n",
      "2025-04-05 18:47:59,082 - INFO - Epoch 1, Batch 0, Loss: 10.483660697937012\n",
      "2025-04-05 18:50:19,926 - INFO - Epoch 1, Batch 100, Loss: 0.13521677255630493\n",
      "2025-04-05 18:52:41,229 - INFO - Epoch 1, Batch 200, Loss: 0.039624374359846115\n",
      "2025-04-05 18:55:02,322 - INFO - Epoch 1, Batch 300, Loss: 0.03105526603758335\n",
      "2025-04-05 18:57:23,485 - INFO - Epoch 1, Batch 400, Loss: 0.026505235582590103\n",
      "2025-04-05 18:59:44,516 - INFO - Epoch 1, Batch 500, Loss: 0.022781208157539368\n",
      "2025-04-05 19:02:05,532 - INFO - Epoch 1, Batch 600, Loss: 0.04089543968439102\n",
      "2025-04-05 19:04:26,509 - INFO - Epoch 1, Batch 700, Loss: 0.0489480160176754\n",
      "2025-04-05 19:06:47,514 - INFO - Epoch 1, Batch 800, Loss: 0.022402217611670494\n",
      "2025-04-05 19:09:08,590 - INFO - Epoch 1, Batch 900, Loss: 0.03125757724046707\n",
      "2025-04-05 19:11:29,677 - INFO - Epoch 1, Batch 1000, Loss: 0.03532053157687187\n",
      "2025-04-05 19:13:50,668 - INFO - Epoch 1, Batch 1100, Loss: 0.03158591315150261\n",
      "2025-04-05 19:16:11,899 - INFO - Epoch 1, Batch 1200, Loss: 0.029766343533992767\n",
      "2025-04-05 19:17:21,067 - INFO - Epoch 1 - Average Training Loss: 0.08760885866507888\n",
      "2025-04-05 19:51:07,952 - INFO - Epoch 1 - Average Validation Loss: 0.029077121056207203\n",
      "2025-04-05 19:51:09,370 - INFO - Epoch 2, Batch 0, Loss: 0.026418421417474747\n",
      "2025-04-05 19:53:30,538 - INFO - Epoch 2, Batch 100, Loss: 0.025833895429968834\n",
      "2025-04-05 19:55:51,637 - INFO - Epoch 2, Batch 200, Loss: 0.02288425713777542\n",
      "2025-04-05 19:58:12,685 - INFO - Epoch 2, Batch 300, Loss: 0.014516038820147514\n",
      "2025-04-05 20:00:33,743 - INFO - Epoch 2, Batch 400, Loss: 0.031159542500972748\n",
      "2025-04-05 20:02:54,727 - INFO - Epoch 2, Batch 500, Loss: 0.01923663169145584\n",
      "2025-04-05 20:05:15,515 - INFO - Epoch 2, Batch 600, Loss: 0.012805409729480743\n",
      "2025-04-05 20:07:36,461 - INFO - Epoch 2, Batch 700, Loss: 0.031857214868068695\n",
      "2025-04-05 20:09:57,268 - INFO - Epoch 2, Batch 800, Loss: 0.01981111243367195\n",
      "2025-04-05 20:12:18,029 - INFO - Epoch 2, Batch 900, Loss: 0.011957439593970776\n",
      "2025-04-05 20:14:38,831 - INFO - Epoch 2, Batch 1000, Loss: 0.01716083474457264\n",
      "2025-04-05 20:16:59,665 - INFO - Epoch 2, Batch 1100, Loss: 0.01662101410329342\n",
      "2025-04-05 20:19:20,421 - INFO - Epoch 2, Batch 1200, Loss: 0.026022518053650856\n",
      "2025-04-05 20:20:29,408 - INFO - Epoch 2 - Average Training Loss: 0.02540451434776187\n",
      "2025-04-05 20:54:11,759 - INFO - Epoch 2 - Average Validation Loss: 0.02748584740502891\n",
      "2025-04-05 20:54:13,168 - INFO - Epoch 3, Batch 0, Loss: 0.017632359638810158\n",
      "2025-04-05 20:56:33,996 - INFO - Epoch 3, Batch 100, Loss: 0.01601274684071541\n",
      "2025-04-05 20:58:54,816 - INFO - Epoch 3, Batch 200, Loss: 0.01832752674818039\n",
      "2025-04-05 21:01:15,553 - INFO - Epoch 3, Batch 300, Loss: 0.009421621449291706\n",
      "2025-04-05 21:03:36,309 - INFO - Epoch 3, Batch 400, Loss: 0.01910661719739437\n",
      "2025-04-05 21:05:57,018 - INFO - Epoch 3, Batch 500, Loss: 0.018094303086400032\n",
      "2025-04-05 21:08:17,858 - INFO - Epoch 3, Batch 600, Loss: 0.019017741084098816\n",
      "2025-04-05 21:10:38,751 - INFO - Epoch 3, Batch 700, Loss: 0.013203417882323265\n",
      "2025-04-05 21:12:59,643 - INFO - Epoch 3, Batch 800, Loss: 0.01447306852787733\n",
      "2025-04-05 21:15:20,380 - INFO - Epoch 3, Batch 900, Loss: 0.013316397555172443\n",
      "2025-04-05 21:17:41,221 - INFO - Epoch 3, Batch 1000, Loss: 0.019858568906784058\n",
      "2025-04-05 21:20:02,059 - INFO - Epoch 3, Batch 1100, Loss: 0.016477109864354134\n",
      "2025-04-05 21:22:22,898 - INFO - Epoch 3, Batch 1200, Loss: 0.016889575868844986\n",
      "2025-04-05 21:23:31,899 - INFO - Epoch 3 - Average Training Loss: 0.020037708396464585\n",
      "2025-04-05 21:57:15,431 - INFO - Epoch 3 - Average Validation Loss: 0.027999469595569558\n",
      "2025-04-05 21:57:16,837 - INFO - Epoch 4, Batch 0, Loss: 0.017812058329582214\n",
      "2025-04-05 21:59:37,726 - INFO - Epoch 4, Batch 100, Loss: 0.007755077909678221\n",
      "2025-04-05 22:01:58,613 - INFO - Epoch 4, Batch 200, Loss: 0.012583659030497074\n",
      "2025-04-05 22:04:19,441 - INFO - Epoch 4, Batch 300, Loss: 0.016162922605872154\n",
      "2025-04-05 22:06:40,303 - INFO - Epoch 4, Batch 400, Loss: 0.018079333007335663\n",
      "2025-04-05 22:09:01,156 - INFO - Epoch 4, Batch 500, Loss: 0.01950659230351448\n",
      "2025-04-05 22:11:22,258 - INFO - Epoch 4, Batch 600, Loss: 0.011697566136717796\n",
      "2025-04-05 22:13:43,155 - INFO - Epoch 4, Batch 700, Loss: 0.014455130323767662\n",
      "2025-04-05 22:16:04,039 - INFO - Epoch 4, Batch 800, Loss: 0.020203037187457085\n",
      "2025-04-05 22:18:25,024 - INFO - Epoch 4, Batch 900, Loss: 0.012384911999106407\n",
      "2025-04-05 22:20:46,044 - INFO - Epoch 4, Batch 1000, Loss: 0.018378203734755516\n",
      "2025-04-05 22:23:07,068 - INFO - Epoch 4, Batch 1100, Loss: 0.018733911216259003\n",
      "2025-04-05 22:25:28,060 - INFO - Epoch 4, Batch 1200, Loss: 0.011018292978405952\n",
      "2025-04-05 22:26:37,119 - INFO - Epoch 4 - Average Training Loss: 0.016409795745834708\n",
      "2025-04-05 23:00:21,250 - INFO - Epoch 4 - Average Validation Loss: 0.02896625478470699\n",
      "2025-04-05 23:00:22,658 - INFO - Epoch 5, Batch 0, Loss: 0.015250164084136486\n",
      "2025-04-05 23:02:43,539 - INFO - Epoch 5, Batch 100, Loss: 0.016539759933948517\n",
      "2025-04-05 23:05:04,428 - INFO - Epoch 5, Batch 200, Loss: 0.015315861441195011\n",
      "2025-04-05 23:07:25,309 - INFO - Epoch 5, Batch 300, Loss: 0.008714640513062477\n",
      "2025-04-05 23:09:46,210 - INFO - Epoch 5, Batch 400, Loss: 0.012409371323883533\n",
      "2025-04-05 23:12:07,089 - INFO - Epoch 5, Batch 500, Loss: 0.018600955605506897\n",
      "2025-04-05 23:14:27,888 - INFO - Epoch 5, Batch 600, Loss: 0.022128697484731674\n",
      "2025-04-05 23:16:48,716 - INFO - Epoch 5, Batch 700, Loss: 0.012905512936413288\n",
      "2025-04-05 23:19:09,521 - INFO - Epoch 5, Batch 800, Loss: 0.018648726865649223\n",
      "2025-04-05 23:21:30,356 - INFO - Epoch 5, Batch 900, Loss: 0.015816112980246544\n",
      "2025-04-05 23:23:51,214 - INFO - Epoch 5, Batch 1000, Loss: 0.019935255870223045\n",
      "2025-04-05 23:26:12,088 - INFO - Epoch 5, Batch 1100, Loss: 0.017574407160282135\n",
      "2025-04-05 23:28:32,952 - INFO - Epoch 5, Batch 1200, Loss: 0.011071044951677322\n",
      "2025-04-05 23:29:41,992 - INFO - Epoch 5 - Average Training Loss: 0.013554957363568246\n"
     ]
    }
   ],
   "source": [
    "if __name__ == \"__main__\":\n",
    "    main()"
   ]
  }
 ],
 "metadata": {
  "kernelspec": {
   "display_name": "Python 3 (ipykernel)",
   "language": "python",
   "name": "python3"
  },
  "language_info": {
   "codemirror_mode": {
    "name": "ipython",
    "version": 3
   },
   "file_extension": ".py",
   "mimetype": "text/x-python",
   "name": "python",
   "nbconvert_exporter": "python",
   "pygments_lexer": "ipython3",
   "version": "3.10.2"
  }
 },
 "nbformat": 4,
 "nbformat_minor": 5
}
